{
 "cells": [
  {
   "cell_type": "markdown",
   "metadata": {
    "colab": {},
    "colab_type": "code",
    "id": "p-cLuYn28JKN"
   },
   "source": [
    "# Andrzej Olszyna\n",
    "# OCR - rozpoznawanie znaków oparte na modelu klasyfikacyjnym\n",
    "### Celem projektu jest zbudowanie klasyfikatora rozpoznającego znaki z obrazów\n",
    "Do budowy modelu zostal wykorzystany zbiór obrazów wygenerowanych w oparciu o zestaw 65 000 różnych czcionek systemowych."
   ]
  },
  {
   "cell_type": "markdown",
   "metadata": {},
   "source": [
    "# 1. Generowanie zbioru uczącego"
   ]
  },
  {
   "cell_type": "code",
   "execution_count": null,
   "metadata": {},
   "outputs": [],
   "source": [
    "import string\n",
    "from PIL import Image, ImageFont\n",
    "import numpy as np\n",
    "import pandas as pd\n",
    "import matplotlib.pyplot as plt\n",
    "from PIL import Image\n",
    "import os, sys\n",
    "from fnmatch import fnmatch\n",
    "import csv"
   ]
  },
  {
   "cell_type": "markdown",
   "metadata": {},
   "source": [
    "#### Wygenerowanie podstawowych znaków (string.ascii_letters+string.digits) dostępnych dla poszczególnych czcionek i zapisanie ich jako obraz o rozmiarze 20/20 px z labelem znaku jako nazwa pliku"
   ]
  },
  {
   "cell_type": "code",
   "execution_count": null,
   "metadata": {},
   "outputs": [],
   "source": [
    "\n",
    "root = \"/media/andrzej/d9dadc48-a6be-400f-9655-c4ae472d9abe/andrzej/font_unrar\"\n",
    "point_size = 25\n",
    "pattern = \"*tf\"\n",
    "\n",
    "for path, subdirs, files in os.walk(root):\n",
    "    for name in files:\n",
    "        if fnmatch(name, pattern):\n",
    "            try:\n",
    "                working_path =  os.path.join(path, name)\n",
    "                export_path = root+'/unpack/'+name[:-4]+'/'\n",
    "                os.makedirs(export_path, exist_ok=True)\n",
    "                font = ImageFont.truetype(working_path, point_size)\n",
    "                for char in string.ascii_letters+string.digits:\n",
    "                    im = Image.Image()._new(font.getmask(char))\n",
    "                    imResize = im.resize((20,20), Image.ANTIALIAS)\n",
    "                    imResize.save(export_path+char + \".bmp\", quality=90)\n",
    "            except:\n",
    "                print(name)\n",
    "       "
   ]
  },
  {
   "cell_type": "markdown",
   "metadata": {},
   "source": [
    "#### zapis danych z obrazów do pliku csv w strukturze 1 wiersz - 1 obraz"
   ]
  },
  {
   "cell_type": "code",
   "execution_count": null,
   "metadata": {},
   "outputs": [],
   "source": [
    "\n",
    "root = \"/media/andrzej/d9dadc48-a6be-400f-9655-c4ae472d9abe/andrzej/font_unrar/unpack\"\n",
    "export_tab = []\n",
    "i = 0     \n",
    "        \n",
    "with open('font_data.csv', \"a\") as output:\n",
    "    writer = csv.writer(output, lineterminator='\\n')  \n",
    "    \n",
    "    for path, subdirs, files in os.walk(root):\n",
    "        export_tab = []\n",
    "        i+=1  \n",
    "        print(i)\n",
    "        for name in files:\n",
    "            try:\n",
    "                working_path =  os.path.join(path, name)\n",
    "                np_im = np.array(Image.open(working_path))\n",
    "                array_im = np_im.reshape(1,400)\n",
    "                array_label= np.append(array_im,name[:-4]) \n",
    "                export_tab.append(array_label)                \n",
    "            except Exception as e:\n",
    "                print(str(e))\n",
    "                \n",
    "        writer.writerows(export_tab)   "
   ]
  },
  {
   "cell_type": "markdown",
   "metadata": {},
   "source": [
    "# 2. Analiza oraz obróbka danych na potrzeby modelu\n",
    "### Do obróbki danych oraz budowy modelu wykorzystana została platforma Google Colab. Mimo wszystko ze względu na ograniczenia wydajnościowe zbiór wejściowy został ograniczony do 100 000 obrazów \n"
   ]
  },
  {
   "cell_type": "code",
   "execution_count": 2,
   "metadata": {
    "colab": {
     "base_uri": "https://localhost:8080/",
     "height": 34
    },
    "colab_type": "code",
    "id": "nOH3YiWpFEeQ",
    "outputId": "9781139e-79e9-43bd-94c0-6fc49b409c98"
   },
   "outputs": [
    {
     "name": "stdout",
     "output_type": "stream",
     "text": [
      "Drive already mounted at /content/gdrive/; to attempt to forcibly remount, call drive.mount(\"/content/gdrive/\", force_remount=True).\n"
     ]
    }
   ],
   "source": [
    "from google.colab import drive \n",
    "drive.mount('/content/gdrive/')"
   ]
  },
  {
   "cell_type": "code",
   "execution_count": 0,
   "metadata": {
    "colab": {},
    "colab_type": "code",
    "id": "jTk2YNIqTcAd"
   },
   "outputs": [],
   "source": [
    "from sklearn.decomposition import PCA\n",
    "import matplotlib.pyplot as plt\n",
    "import cv2\n",
    "import pandas as pd\n",
    "import numpy as np\n",
    "from pprint import pprint\n",
    "from sklearn.ensemble import RandomForestClassifier\n",
    "from sklearn.linear_model import LogisticRegression\n",
    "from sklearn.tree import DecisionTreeClassifier\n",
    "from sklearn.naive_bayes import MultinomialNB\n",
    "from sklearn.preprocessing import MaxAbsScaler\n",
    "from sklearn.model_selection import GridSearchCV, train_test_split, cross_val_score\n",
    "from sklearn.metrics import accuracy_score\n",
    "from sklearn.ensemble import BaggingClassifier\n",
    "from sklearn.svm import SVC\n",
    "from sklearn.pipeline import Pipeline\n",
    "from sklearn.metrics import confusion_matrix\n",
    "from sklearn.metrics import classification_report"
   ]
  },
  {
   "cell_type": "code",
   "execution_count": 0,
   "metadata": {
    "colab": {},
    "colab_type": "code",
    "id": "lpUg_Bg_a2gY"
   },
   "outputs": [],
   "source": [
    "df2=pd.read_csv('/content/gdrive/My Drive/Colab Notebooks/font_data_sample.csv',header=None,sep = ';', skiprows = 1)"
   ]
  },
  {
   "cell_type": "code",
   "execution_count": 0,
   "metadata": {
    "colab": {
     "base_uri": "https://localhost:8080/",
     "height": 34
    },
    "colab_type": "code",
    "id": "OIda6zcCbDoF",
    "outputId": "a8d9af32-9c26-4962-8e1a-122ae2d7cd92"
   },
   "outputs": [
    {
     "data": {
      "text/plain": [
       "(99999, 402)"
      ]
     },
     "execution_count": 5,
     "metadata": {
      "tags": []
     },
     "output_type": "execute_result"
    }
   ],
   "source": [
    "df2.shape"
   ]
  },
  {
   "cell_type": "code",
   "execution_count": 0,
   "metadata": {
    "colab": {
     "base_uri": "https://localhost:8080/",
     "height": 34
    },
    "colab_type": "code",
    "id": "FKdAc26BbD4s",
    "outputId": "124bce26-a8f8-48b3-dd27-c9158bbbf69d"
   },
   "outputs": [
    {
     "data": {
      "text/plain": [
       "(10, 402)"
      ]
     },
     "execution_count": 6,
     "metadata": {
      "tags": []
     },
     "output_type": "execute_result"
    }
   ],
   "source": [
    "df_sample = df2.sample(10)\n",
    "df_sample.shape"
   ]
  },
  {
   "cell_type": "markdown",
   "metadata": {},
   "source": [
    "## Wizualizacja losowych 20 obrazów"
   ]
  },
  {
   "cell_type": "code",
   "execution_count": 0,
   "metadata": {
    "colab": {
     "base_uri": "https://localhost:8080/",
     "height": 515
    },
    "colab_type": "code",
    "id": "nX3dka2LbEHE",
    "outputId": "1c3d4b0b-9ba2-4485-fb90-b24b8182fe9c"
   },
   "outputs": [
    {
     "name": "stderr",
     "output_type": "stream",
     "text": [
      "/usr/local/lib/python3.6/dist-packages/ipykernel_launcher.py:1: FutureWarning: Method .as_matrix will be removed in a future version. Use .values instead.\n",
      "  \"\"\"Entry point for launching an IPython kernel.\n"
     ]
    },
    {
     "data": {
      "image/png": "[encoded data removed]",
      "text/plain": [
       "<Figure size 1440x576 with 10 Axes>"
      ]
     },
     "metadata": {
      "tags": []
     },
     "output_type": "display_data"
    }
   ],
   "source": [
    "array = (df_sample[df_sample.columns[1:401]]).as_matrix().reshape(10,20,20)\n",
    "titles = list(df_sample[df_sample.columns[-1]][1:])\n",
    "\n",
    "plt.figure(figsize=(20,8))\n",
    "for i in range(len(array)):    \n",
    "    plt.subplot(2,5,i+1), plt.imshow(array[i] ,'gray')    \n",
    "    plt.title(str(titles[i-1]))\n",
    "    plt.xticks([]),plt.yticks([])\n",
    "plt.show()\n"
   ]
  },
  {
   "cell_type": "markdown",
   "metadata": {},
   "source": [
    "## Porównanie metod wygładzania krawędzi - biblioteka OpenCV"
   ]
  },
  {
   "cell_type": "code",
   "execution_count": 0,
   "metadata": {
    "colab": {
     "base_uri": "https://localhost:8080/",
     "height": 1000
    },
    "colab_type": "code",
    "id": "ncH0Q3KRbEa9",
    "outputId": "e5469068-dd92-48f7-da80-b2f127cb39f9"
   },
   "outputs": [
    {
     "data": {
      "image/png": "[encoded data removed]",
      "text/plain": [
       "<Figure size 648x648 with 4 Axes>"
      ]
     },
     "metadata": {
      "tags": []
     },
     "output_type": "display_data"
    },
    {
     "data": {
      "image/png": "[encoded data removed]",
      "text/plain": [
       "<Figure size 648x648 with 4 Axes>"
      ]
     },
     "metadata": {
      "tags": []
     },
     "output_type": "display_data"
    },
    {
     "data": {
      "image/png": "[encoded data removed]",
      "text/plain": [
       "<Figure size 648x648 with 4 Axes>"
      ]
     },
     "metadata": {
      "tags": []
     },
     "output_type": "display_data"
    },
    {
     "data": {
      "image/png": "[encoded data removed]",
      "text/plain": [
       "<Figure size 648x648 with 4 Axes>"
      ]
     },
     "metadata": {
      "tags": []
     },
     "output_type": "display_data"
    },
    {
     "data": {
      "image/png": "[encoded data removed]",
      "text/plain": [
       "<Figure size 648x648 with 4 Axes>"
      ]
     },
     "metadata": {
      "tags": []
     },
     "output_type": "display_data"
    },
    {
     "data": {
      "image/png": "[encoded data removed]",
      "text/plain": [
       "<Figure size 648x648 with 4 Axes>"
      ]
     },
     "metadata": {
      "tags": []
     },
     "output_type": "display_data"
    },
    {
     "data": {
      "image/png": "[encoded data removed]",
      "text/plain": [
       "<Figure size 648x648 with 4 Axes>"
      ]
     },
     "metadata": {
      "tags": []
     },
     "output_type": "display_data"
    },
    {
     "data": {
      "image/png": "[encoded data removed]",
      "text/plain": [
       "<Figure size 648x648 with 4 Axes>"
      ]
     },
     "metadata": {
      "tags": []
     },
     "output_type": "display_data"
    },
    {
     "data": {
      "image/png": "[encoded data removed]",
      "text/plain": [
       "<Figure size 648x648 with 4 Axes>"
      ]
     },
     "metadata": {
      "tags": []
     },
     "output_type": "display_data"
    },
    {
     "data": {
      "image/png": "[encoded data removed]",
      "text/plain": [
       "<Figure size 648x648 with 4 Axes>"
      ]
     },
     "metadata": {
      "tags": []
     },
     "output_type": "display_data"
    }
   ],
   "source": [
    "titles = ['Standard', 'Gaussian Blur','MedianBlur', 'Blur']\n",
    "\n",
    "for letter in array:\n",
    "    img = np.float32(letter)\n",
    "    img_blur1 = cv2.GaussianBlur(img, (3, 3), 0)\n",
    "    img_blur2 = cv2.medianBlur(img, 1)\n",
    "    img_blur3 = cv2.blur(img,(2,2)) \n",
    "    images = [img,img_blur1, img_blur2, img_blur3]\n",
    "\n",
    "    plt.figure(figsize=(9,9))\n",
    "    for i in range(4):\n",
    "        plt.subplot(1,4,i+1),plt.imshow(images[i],'gray')\n",
    "        plt.title(titles[i])\n",
    "        plt.xticks([]),plt.yticks([])\n",
    "\n",
    "    plt.show()"
   ]
  },
  {
   "cell_type": "markdown",
   "metadata": {},
   "source": [
    "### Wybór padł na podstawową metodę blur() uśredniającą wartość pikseli z macierzy 2x2"
   ]
  },
  {
   "cell_type": "code",
   "execution_count": 0,
   "metadata": {
    "colab": {},
    "colab_type": "code",
    "id": "xtgI8qNbpMRS"
   },
   "outputs": [],
   "source": [
    "img = np.float32(array[7])\n",
    "img_blur = cv2.blur(np.float32(array[7]),(2,2))\n"
   ]
  },
  {
   "cell_type": "markdown",
   "metadata": {},
   "source": [
    "### Binaryzacja obrazów przy użyciu metod thresholdingu biblioteki OpenCV\n",
    "Porównanie wybranych metod"
   ]
  },
  {
   "cell_type": "code",
   "execution_count": 0,
   "metadata": {
    "colab": {
     "base_uri": "https://localhost:8080/",
     "height": 476
    },
    "colab_type": "code",
    "id": "wGIU8JsNmxBs",
    "outputId": "bb5cdd1a-5753-4765-8604-7ed73982aed2"
   },
   "outputs": [
    {
     "data": {
      "image/png": "[encoded data removed]",
      "text/plain": [
       "<Figure size 1440x648 with 12 Axes>"
      ]
     },
     "metadata": {
      "tags": []
     },
     "output_type": "display_data"
    }
   ],
   "source": [
    "ret,thresh1 = cv2.threshold(img,127,255,cv2.THRESH_BINARY)\n",
    "ret,thresh2 = cv2.threshold(img,127,255,cv2.THRESH_BINARY_INV)\n",
    "ret,thresh3 = cv2.threshold(img,127,255,cv2.THRESH_TRUNC)\n",
    "ret,thresh4 = cv2.threshold(img,127,255,cv2.THRESH_TOZERO)\n",
    "ret,thresh5 = cv2.threshold(img,127,255,cv2.THRESH_TOZERO_INV)\n",
    "ret,thresh6 = cv2.threshold(img_blur,127,255,cv2.THRESH_BINARY)\n",
    "ret,thresh7 = cv2.threshold(img_blur,127,255,cv2.THRESH_BINARY_INV)\n",
    "ret,thresh8 = cv2.threshold(img_blur,127,255,cv2.THRESH_TRUNC)\n",
    "ret,thresh9 = cv2.threshold(img_blur,127,255,cv2.THRESH_TOZERO)\n",
    "ret,thresh10 = cv2.threshold(img_blur,127,255,cv2.THRESH_TOZERO_INV)\n",
    "\n",
    "titles = ['Original Image','BINARY','BINARY_INV','TRUNC','TOZERO','TOZERO_INV','Original Blur','BINARY_Blur','BINARY_INV_Blur','TRUNC_Blur','TOZERO_Blur','TOZERO_INV_Blur']\n",
    "images = [img, thresh1, thresh2, thresh3, thresh4, thresh5,img_blur, thresh6, thresh7, thresh8, thresh9, thresh10]\n",
    "\n",
    "plt.figure(figsize=(20,9))\n",
    "for i in range(12):\n",
    "    plt.subplot(2,6,i+1),plt.imshow(images[i],'gray')\n",
    "    plt.title(titles[i])\n",
    "    plt.xticks([]),plt.yticks([])\n",
    "\n",
    "plt.show()"
   ]
  },
  {
   "cell_type": "markdown",
   "metadata": {},
   "source": [
    "### Porównanie znaków przed i po przekształceniu"
   ]
  },
  {
   "cell_type": "code",
   "execution_count": 0,
   "metadata": {
    "colab": {
     "base_uri": "https://localhost:8080/",
     "height": 272
    },
    "colab_type": "code",
    "id": "1HXidTOfpKUc",
    "outputId": "61dc3952-f038-4e22-9594-0da1644781d6"
   },
   "outputs": [
    {
     "data": {
      "image/png": "[encoded data removed]",
      "text/plain": [
       "<Figure size 1440x720 with 10 Axes>"
      ]
     },
     "metadata": {
      "tags": []
     },
     "output_type": "display_data"
    },
    {
     "data": {
      "image/png": "[encoded data removed]",
      "text/plain": [
       "<Figure size 1440x720 with 10 Axes>"
      ]
     },
     "metadata": {
      "tags": []
     },
     "output_type": "display_data"
    }
   ],
   "source": [
    "titles = list(df_sample[df_sample.columns[-1]][1:])\n",
    "array_clear = []\n",
    "for image in array:\n",
    "    img_blur = cv2.blur(np.float32(image),(2,2))\n",
    "    _, img_out = cv2.threshold(img_blur,127,255,cv2.THRESH_BINARY)\n",
    "    array_clear.append(img_out)\n",
    "\n",
    "    \n",
    "plt.figure(figsize=(20,10))\n",
    "for i in range(len(array_clear)):    \n",
    "    plt.subplot(1,10,i+1), plt.imshow(array_clear[i] ,'gray')    \n",
    "    plt.title(str(titles[i-1]))\n",
    "    plt.xticks([]),plt.yticks([])\n",
    "\n",
    "plt.show()\n",
    "\n",
    "plt.figure(figsize=(20,10))\n",
    "for i in range(len(array)):    \n",
    "    plt.subplot(1,10,i+1), plt.imshow(array[i] ,'gray')    \n",
    "    plt.title(str(titles[i-1]))\n",
    "    plt.xticks([]),plt.yticks([])\n",
    "\n",
    "plt.show()"
   ]
  },
  {
   "cell_type": "code",
   "execution_count": null,
   "metadata": {
    "colab": {
     "base_uri": "https://localhost:8080/",
     "height": 52
    },
    "colab_type": "code",
    "id": "ND7WOlxMmxu5",
    "outputId": "241229e2-c517-4217-eaa4-976a080e6928"
   },
   "outputs": [],
   "source": [
    "df_array = (df2[df2.columns[1:401]]).as_matrix().reshape(len(df2),20,20)"
   ]
  },
  {
   "cell_type": "markdown",
   "metadata": {},
   "source": [
    "### Zastosowanie filtrów dla całego zbioru"
   ]
  },
  {
   "cell_type": "code",
   "execution_count": 0,
   "metadata": {
    "colab": {},
    "colab_type": "code",
    "id": "WJQ-nMSVnOxd"
   },
   "outputs": [],
   "source": [
    "list_clear = []\n",
    "\n",
    "for letter in df_array:\n",
    "    img_blur = cv2.blur(np.float32(letter),(2,2))\n",
    "    _, img_out = cv2.threshold(img_blur,127,255,cv2.THRESH_BINARY)\n",
    "    list_clear.append(img_out)\n",
    "\n",
    "array_clear = np.array(list_clear)"
   ]
  },
  {
   "cell_type": "code",
   "execution_count": 0,
   "metadata": {
    "colab": {},
    "colab_type": "code",
    "id": "HsgXok1erqAC"
   },
   "outputs": [],
   "source": [
    "labels = df2[df2.columns[-1]][0:]\n",
    "array_df = array_clear.reshape(len(array_clear),400)\n",
    "df_clear = pd.DataFrame(array_df)\n",
    "df_clear['label'] = labels"
   ]
  },
  {
   "cell_type": "markdown",
   "metadata": {},
   "source": [
    "### Pobranie wzorcowego zbioru znaków czcionki Arial oraz użycie takiego samego preprocessu"
   ]
  },
  {
   "cell_type": "code",
   "execution_count": 0,
   "metadata": {
    "colab": {},
    "colab_type": "code",
    "id": "TtXAYf2Wt4ME"
   },
   "outputs": [],
   "source": [
    "df_arial=pd.read_csv('/content/gdrive/My Drive/Colab Notebooks/Arial_sample_.csv',header=None,sep = ';', skiprows = 1)\n"
   ]
  },
  {
   "cell_type": "code",
   "execution_count": 0,
   "metadata": {
    "colab": {},
    "colab_type": "code",
    "id": "N7jiI2cB1iAK"
   },
   "outputs": [],
   "source": [
    "unique_labels = list(df_arial[df_arial.columns[-1]][0:])"
   ]
  },
  {
   "cell_type": "code",
   "execution_count": null,
   "metadata": {
    "colab": {
     "base_uri": "https://localhost:8080/",
     "height": 52
    },
    "colab_type": "code",
    "id": "lauklAyd__Dq",
    "outputId": "bdb988d0-44b6-416d-cb42-b29b905fbf55"
   },
   "outputs": [],
   "source": [
    "arial = (df_arial[df_arial.columns[1:401]]).as_matrix().reshape(len(df_arial),20,20)\n",
    "titles_arial = df_arial[df_arial.columns[-1]][1:]\n",
    "arial_clear = []\n",
    "for image in arial:\n",
    "    img_blur = cv2.blur(np.float32(image),(2,2))\n",
    "    _, img_out = cv2.threshold(img_blur,127,255,cv2.THRESH_BINARY)\n",
    "    arial_clear.append(img_out)\n",
    "\n",
    "np_arial_clear = np.array(arial_clear)\n",
    "arial_reshape = np_arial_clear.reshape(len(np_arial_clear),400)\n",
    "df_arial_clear = pd.DataFrame(arial_reshape)\n",
    "df_arial_clear['label'] = titles_arial\n"
   ]
  },
  {
   "cell_type": "markdown",
   "metadata": {
    "colab": {},
    "colab_type": "code",
    "id": "Hl3inEzcABR2"
   },
   "source": [
    "### Wybór jednej klasy do celów dostosowania miar podobieństwa obrazów"
   ]
  },
  {
   "cell_type": "code",
   "execution_count": null,
   "metadata": {
    "colab": {
     "base_uri": "https://localhost:8080/",
     "height": 87
    },
    "colab_type": "code",
    "id": "tgLf6GFj9yic",
    "outputId": "cc39f96f-8a67-4152-d156-21823a1620c4"
   },
   "outputs": [],
   "source": [
    "df_arial_test = df_arial_clear[df_arial_clear.iloc[:, -1]  == 'A']\n",
    "df_arial_test = df_arial_test[df_arial_test.columns[0:400]]\n",
    "df_test = df_clear[df_clear.iloc[:, -1]  == 'A']\n",
    "df_test = df_test[df_test.columns[0:400]]\n",
    "a,_ = df_test.shape\n",
    "array_arial_test = df_arial_test.as_matrix().reshape(20,20)\n",
    "images_arial_test = np.float32(array_arial_test)\n",
    "array_test = df_test.as_matrix().reshape(a,20,20)\n",
    "images_test = np.float32(array_test)\n",
    "  "
   ]
  },
  {
   "cell_type": "markdown",
   "metadata": {
    "colab": {},
    "colab_type": "code",
    "id": "-zYUsPWkDYYM"
   },
   "source": [
    "## Test miar podobieństwa obrazów na wybranej literze 'A'\n",
    "Metoda i punkt odcięcia nieporządanych obrazów zostały wybrane na zasadzie porównania i wizualizacji wybranej klasy. Ideą tego zabiegu było wyeliminowanie liter z futurystycznych i nieczytelnych czcionek. "
   ]
  },
  {
   "cell_type": "code",
   "execution_count": 0,
   "metadata": {
    "colab": {
     "base_uri": "https://localhost:8080/",
     "height": 751
    },
    "colab_type": "code",
    "id": "XYr7ErvH-PhT",
    "outputId": "d690a725-6042-4e1d-a317-36a1c897d206"
   },
   "outputs": [
    {
     "name": "stdout",
     "output_type": "stream",
     "text": [
      "Wzór litery - arial\n"
     ]
    },
    {
     "data": {
      "image/png": "[encoded data removed]",
      "text/plain": [
       "<Figure size 432x288 with 1 Axes>"
      ]
     },
     "metadata": {
      "tags": []
     },
     "output_type": "display_data"
    },
    {
     "name": "stdout",
     "output_type": "stream",
     "text": [
      "Przykladowe 50 zdjec\n"
     ]
    },
    {
     "data": {
      "image/png": "[encoded data removed]",
      "text/plain": [
       "<Figure size 1440x360 with 49 Axes>"
      ]
     },
     "metadata": {
      "tags": []
     },
     "output_type": "display_data"
    },
    {
     "name": "stdout",
     "output_type": "stream",
     "text": [
      "Wybrane zdjęcia wg miary podobieństwa:\n"
     ]
    },
    {
     "data": {
      "image/png": "[encoded data removed]",
      "text/plain": [
       "<Figure size 1440x360 with 15 Axes>"
      ]
     },
     "metadata": {
      "tags": []
     },
     "output_type": "display_data"
    }
   ],
   "source": [
    "print('Wzór litery - arial')\n",
    "\n",
    "plt.imshow(images_arial_test, 'gray')\n",
    "plt.show()\n",
    "\n",
    "print('Przykladowe 50 zdjec')\n",
    "\n",
    "plt.figure(figsize=(20,5))\n",
    "for i in range(len(images_test[1:50])):  \n",
    "    plt.subplot(5,10,i+1), plt.imshow(images_test[i] ,'gray')   \n",
    "    plt.xticks([]),plt.yticks([])\n",
    "plt.show()\n",
    "\n",
    "print('Wybrane zdjęcia wg miary podobieństwa:')\n",
    "\n",
    "\n",
    "j=0\n",
    "plt.figure(figsize=(20,5))\n",
    "for i in range(len(images_test[1:50])):    \n",
    "    res = cv2.matchTemplate(images_test[i],images_arial_test,cv2.TM_SQDIFF)\n",
    "    min_val, max_val, min_loc, max_loc = cv2.minMaxLoc(res)\n",
    "    #print(max_val/1000000)\n",
    "\n",
    "    if min_val/1000000 <7:\n",
    "        j += 1\n",
    "        plt.subplot(5,10,j), plt.imshow(images_test[i] ,'gray')   \n",
    "        plt.title(str(min_val/1000000))\n",
    "        plt.xticks([]),plt.yticks([])\n",
    "\n",
    "plt.show()"
   ]
  },
  {
   "cell_type": "markdown",
   "metadata": {
    "colab": {},
    "colab_type": "code",
    "id": "hJs8uYcF9zd6"
   },
   "source": [
    "### Zastosowanie transformacji dla całego zbioru"
   ]
  },
  {
   "cell_type": "code",
   "execution_count": null,
   "metadata": {
    "colab": {
     "base_uri": "https://localhost:8080/",
     "height": 107
    },
    "colab_type": "code",
    "id": "A1whNeIx5h2I",
    "outputId": "474af7e1-2230-408b-d61e-5aa2914102c4"
   },
   "outputs": [],
   "source": [
    "filter_list = []\n",
    "\n",
    "for letter in unique_labels:\n",
    "#   print(letter)\n",
    "    df_arial_letter = df_arial[df_arial.iloc[:, -1]  == letter]\n",
    "    df_arial_letter = df_arial_letter[df_arial_letter.columns[1:401]]\n",
    "    df_letter = df_clear[df_clear.iloc[:, -1]  == letter]\n",
    "    df_letter = df_letter[df_letter.columns[0:400]]\n",
    "    a,_ = df_letter.shape\n",
    "    array_arial_letter = df_arial_letter.as_matrix().reshape(20,20)\n",
    "    images_arial_letter = np.float32(array_arial_letter)\n",
    "    array_letter = df_letter.as_matrix().reshape(a,20,20)\n",
    "    images_letter = np.float32(array_letter)\n",
    "\n",
    "    # filtr miarą podobieństwa\n",
    "    for i in range(len(images_letter)):    \n",
    "    res = cv2.matchTemplate(images_letter[i],images_arial_letter,cv2.TM_SQDIFF)\n",
    "    min_val, max_val, min_loc, max_loc = cv2.minMaxLoc(res)\n",
    "\n",
    "    if min_val/1000000 <7:\n",
    "        _temp = images_letter[i].reshape(400)\n",
    "        _temp = np.append(_temp,letter)\n",
    "        filter_list.append(_temp)\n",
    "        \n"
   ]
  },
  {
   "cell_type": "code",
   "execution_count": 0,
   "metadata": {
    "colab": {
     "base_uri": "https://localhost:8080/",
     "height": 34
    },
    "colab_type": "code",
    "id": "ZeKGQ3rD9mkQ",
    "outputId": "9ea3b341-66c8-4acf-a9f8-e200d4295e4d"
   },
   "outputs": [
    {
     "data": {
      "text/plain": [
       "(58111, 401)"
      ]
     },
     "execution_count": 21,
     "metadata": {
      "tags": []
     },
     "output_type": "execute_result"
    }
   ],
   "source": [
    "df_filter = pd.DataFrame(filter_list)\n",
    "df_filter.shape"
   ]
  },
  {
   "cell_type": "markdown",
   "metadata": {
    "colab": {},
    "colab_type": "code",
    "id": "VakzczJ_2DI0"
   },
   "source": [
    "### Liczebność pozostalych klas\n"
   ]
  },
  {
   "cell_type": "code",
   "execution_count": 0,
   "metadata": {
    "colab": {
     "base_uri": "https://localhost:8080/",
     "height": 1000
    },
    "colab_type": "code",
    "id": "C6KWA0Pi2h0T",
    "outputId": "f7aab36b-b9fd-408c-eba6-8e8ef4142e50"
   },
   "outputs": [
    {
     "name": "stdout",
     "output_type": "stream",
     "text": [
      "T    1353\n",
      "i    1319\n",
      "Y    1300\n",
      "1    1267\n",
      "7    1242\n",
      "3    1238\n",
      "I    1219\n",
      "X    1190\n",
      "j    1172\n",
      "V    1171\n",
      "v    1168\n",
      "y    1158\n",
      "t    1139\n",
      "f    1126\n",
      "2    1120\n",
      "r    1115\n",
      "4    1112\n",
      "x    1108\n",
      "C    1098\n",
      "Z    1085\n",
      "l    1069\n",
      "A    1044\n",
      "U    1034\n",
      "L    1034\n",
      "c    1033\n",
      "O    1030\n",
      "J    1029\n",
      "S    1009\n",
      "s    1005\n",
      "o     999\n",
      "     ... \n",
      "0     973\n",
      "k     946\n",
      "p     927\n",
      "P     901\n",
      "u     875\n",
      "8     866\n",
      "h     858\n",
      "5     853\n",
      "9     847\n",
      "q     843\n",
      "d     819\n",
      "G     797\n",
      "H     785\n",
      "e     777\n",
      "D     776\n",
      "b     746\n",
      "6     736\n",
      "Q     705\n",
      "a     686\n",
      "N     686\n",
      "n     680\n",
      "E     667\n",
      "K     659\n",
      "w     598\n",
      "W     572\n",
      "B     570\n",
      "m     549\n",
      "R     491\n",
      "g     482\n",
      "M     482\n",
      "Name: 400, Length: 62, dtype: int64\n"
     ]
    }
   ],
   "source": [
    "\n",
    "print(df_filter[df_filter.columns[-1]].value_counts())"
   ]
  },
  {
   "cell_type": "markdown",
   "metadata": {},
   "source": [
    "### Wizualizacja pierwszych 20 obrazów z każdej klasy"
   ]
  },
  {
   "cell_type": "code",
   "execution_count": 0,
   "metadata": {
    "colab": {
     "base_uri": "https://localhost:8080/",
     "height": 1000
    },
    "colab_type": "code",
    "id": "mpHEoOmS33mb",
    "outputId": "0ea5c1ff-37ea-404c-8849-a0eec3460c6e"
   },
   "outputs": [
    {
     "name": "stderr",
     "output_type": "stream",
     "text": [
      "/usr/local/lib/python3.6/dist-packages/ipykernel_launcher.py:6: FutureWarning: Method .as_matrix will be removed in a future version. Use .values instead.\n",
      "  \n"
     ]
    },
    {
     "data": {
      "image/png": "[encoded data removed]",
      "text/plain": [
       "<Figure size 1440x720 with 19 Axes>"
      ]
     },
     "metadata": {
      "tags": []
     },
     "output_type": "display_data"
    },
    {
     "data": {
      "image/png": "[encoded data removed]",
      "text/plain": [
       "<Figure size 1440x720 with 19 Axes>"
      ]
     },
     "metadata": {
      "tags": []
     },
     "output_type": "display_data"
    },
    {
     "data": {
      "image/png": "[encoded data removed]",
      "text/plain": [
       "<Figure size 1440x720 with 19 Axes>"
      ]
     },
     "metadata": {
      "tags": []
     },
     "output_type": "display_data"
    },
    {
     "data": {
      "image/png": "[encoded data removed]",
      "text/plain": [
       "<Figure size 1440x720 with 19 Axes>"
      ]
     },
     "metadata": {
      "tags": []
     },
     "output_type": "display_data"
    },
    {
     "data": {
      "image/png": "[encoded data removed]",
      "text/plain": [
       "<Figure size 1440x720 with 19 Axes>"
      ]
     },
     "metadata": {
      "tags": []
     },
     "output_type": "display_data"
    },
    {
     "data": {
      "image/png": "[encoded data removed]",
      "text/plain": [
       "<Figure size 1440x720 with 19 Axes>"
      ]
     },
     "metadata": {
      "tags": []
     },
     "output_type": "display_data"
    },
    {
     "data": {
      "image/png": "[encoded data removed]",
      "text/plain": [
       "<Figure size 1440x720 with 19 Axes>"
      ]
     },
     "metadata": {
      "tags": []
     },
     "output_type": "display_data"
    },
    {
     "data": {
      "image/png": "[encoded data removed]",
      "text/plain": [
       "<Figure size 1440x720 with 19 Axes>"
      ]
     },
     "metadata": {
      "tags": []
     },
     "output_type": "display_data"
    },
    {
     "data": {
      "image/png": "[encoded data removed]",
      "text/plain": [
       "<Figure size 1440x720 with 19 Axes>"
      ]
     },
     "metadata": {
      "tags": []
     },
     "output_type": "display_data"
    },
    {
     "data": {
      "image/png": "[encoded data removed]",
      "text/plain": [
       "<Figure size 1440x720 with 19 Axes>"
      ]
     },
     "metadata": {
      "tags": []
     },
     "output_type": "display_data"
    },
    {
     "data": {
      "image/png": "[encoded data removed]",
      "text/plain": [
       "<Figure size 1440x720 with 19 Axes>"
      ]
     },
     "metadata": {
      "tags": []
     },
     "output_type": "display_data"
    },
    {
     "data": {
      "image/png": "[encoded data removed]",
      "text/plain": [
       "<Figure size 1440x720 with 19 Axes>"
      ]
     },
     "metadata": {
      "tags": []
     },
     "output_type": "display_data"
    },
    {
     "data": {
      "image/png": "[encoded data removed]",
      "text/plain": [
       "<Figure size 1440x720 with 19 Axes>"
      ]
     },
     "metadata": {
      "tags": []
     },
     "output_type": "display_data"
    },
    {
     "data": {
      "image/png": "[encoded data removed]",
      "text/plain": [
       "<Figure size 1440x720 with 19 Axes>"
      ]
     },
     "metadata": {
      "tags": []
     },
     "output_type": "display_data"
    },
    {
     "data": {
      "image/png": "[encoded data removed]",
      "text/plain": [
       "<Figure size 1440x720 with 19 Axes>"
      ]
     },
     "metadata": {
      "tags": []
     },
     "output_type": "display_data"
    },
    {
     "data": {
      "image/png": "[encoded data removed]",
      "text/plain": [
       "<Figure size 1440x720 with 19 Axes>"
      ]
     },
     "metadata": {
      "tags": []
     },
     "output_type": "display_data"
    },
    {
     "data": {
      "image/png": "[encoded data removed]",
      "text/plain": [
       "<Figure size 1440x720 with 19 Axes>"
      ]
     },
     "metadata": {
      "tags": []
     },
     "output_type": "display_data"
    },
    {
     "data": {
      "image/png": "[encoded data removed]",
      "text/plain": [
       "<Figure size 1440x720 with 19 Axes>"
      ]
     },
     "metadata": {
      "tags": []
     },
     "output_type": "display_data"
    },
    {
     "data": {
      "image/png": "[encoded data removed]",
      "text/plain": [
       "<Figure size 1440x720 with 19 Axes>"
      ]
     },
     "metadata": {
      "tags": []
     },
     "output_type": "display_data"
    },
    {
     "data": {
      "image/png": "[encoded data removed]",
      "text/plain": [
       "<Figure size 1440x720 with 19 Axes>"
      ]
     },
     "metadata": {
      "tags": []
     },
     "output_type": "display_data"
    },
    {
     "data": {
      "image/png": "[encoded data removed]",
      "text/plain": [
       "<Figure size 1440x720 with 19 Axes>"
      ]
     },
     "metadata": {
      "tags": []
     },
     "output_type": "display_data"
    },
    {
     "data": {
      "image/png": "[encoded data removed]",
      "text/plain": [
       "<Figure size 1440x720 with 19 Axes>"
      ]
     },
     "metadata": {
      "tags": []
     },
     "output_type": "display_data"
    },
    {
     "data": {
      "image/png": "[encoded data removed]",
      "text/plain": [
       "<Figure size 1440x720 with 19 Axes>"
      ]
     },
     "metadata": {
      "tags": []
     },
     "output_type": "display_data"
    },
    {
     "data": {
      "image/png": "[encoded data removed]",
      "text/plain": [
       "<Figure size 1440x720 with 19 Axes>"
      ]
     },
     "metadata": {
      "tags": []
     },
     "output_type": "display_data"
    },
    {
     "data": {
      "image/png": "[encoded data removed]",
      "text/plain": [
       "<Figure size 1440x720 with 19 Axes>"
      ]
     },
     "metadata": {
      "tags": []
     },
     "output_type": "display_data"
    },
    {
     "data": {
      "image/png": "[encoded data removed]",
      "text/plain": [
       "<Figure size 1440x720 with 19 Axes>"
      ]
     },
     "metadata": {
      "tags": []
     },
     "output_type": "display_data"
    },
    {
     "data": {
      "image/png": "[encoded data removed]",
      "text/plain": [
       "<Figure size 1440x720 with 19 Axes>"
      ]
     },
     "metadata": {
      "tags": []
     },
     "output_type": "display_data"
    },
    {
     "data": {
      "image/png": "[encoded data removed]",
      "text/plain": [
       "<Figure size 1440x720 with 19 Axes>"
      ]
     },
     "metadata": {
      "tags": []
     },
     "output_type": "display_data"
    },
    {
     "data": {
      "image/png": "[encoded data removed]",
      "text/plain": [
       "<Figure size 1440x720 with 19 Axes>"
      ]
     },
     "metadata": {
      "tags": []
     },
     "output_type": "display_data"
    },
    {
     "data": {
      "image/png": "[encoded data removed]",
      "text/plain": [
       "<Figure size 1440x720 with 19 Axes>"
      ]
     },
     "metadata": {
      "tags": []
     },
     "output_type": "display_data"
    },
    {
     "data": {
      "image/png": "[encoded data removed]",
      "text/plain": [
       "<Figure size 1440x720 with 19 Axes>"
      ]
     },
     "metadata": {
      "tags": []
     },
     "output_type": "display_data"
    },
    {
     "data": {
      "image/png": "[encoded data removed]",
      "text/plain": [
       "<Figure size 1440x720 with 19 Axes>"
      ]
     },
     "metadata": {
      "tags": []
     },
     "output_type": "display_data"
    },
    {
     "data": {
      "image/png": "[encoded data removed]",
      "text/plain": [
       "<Figure size 1440x720 with 19 Axes>"
      ]
     },
     "metadata": {
      "tags": []
     },
     "output_type": "display_data"
    },
    {
     "data": {
      "image/png": "[encoded data removed]",
      "text/plain": [
       "<Figure size 1440x720 with 19 Axes>"
      ]
     },
     "metadata": {
      "tags": []
     },
     "output_type": "display_data"
    },
    {
     "data": {
      "image/png": "[encoded data removed]",
      "text/plain": [
       "<Figure size 1440x720 with 19 Axes>"
      ]
     },
     "metadata": {
      "tags": []
     },
     "output_type": "display_data"
    },
    {
     "data": {
      "image/png": "[encoded data removed]",
      "text/plain": [
       "<Figure size 1440x720 with 19 Axes>"
      ]
     },
     "metadata": {
      "tags": []
     },
     "output_type": "display_data"
    },
    {
     "data": {
      "image/png": "[encoded data removed]",
      "text/plain": [
       "<Figure size 1440x720 with 19 Axes>"
      ]
     },
     "metadata": {
      "tags": []
     },
     "output_type": "display_data"
    },
    {
     "data": {
      "image/png": "[encoded data removed]",
      "text/plain": [
       "<Figure size 1440x720 with 19 Axes>"
      ]
     },
     "metadata": {
      "tags": []
     },
     "output_type": "display_data"
    },
    {
     "data": {
      "image/png": "[encoded data removed]",
      "text/plain": [
       "<Figure size 1440x720 with 19 Axes>"
      ]
     },
     "metadata": {
      "tags": []
     },
     "output_type": "display_data"
    },
    {
     "data": {
      "image/png": "[encoded data removed]",
      "text/plain": [
       "<Figure size 1440x720 with 19 Axes>"
      ]
     },
     "metadata": {
      "tags": []
     },
     "output_type": "display_data"
    },
    {
     "data": {
      "image/png": "[encoded data removed]",
      "text/plain": [
       "<Figure size 1440x720 with 19 Axes>"
      ]
     },
     "metadata": {
      "tags": []
     },
     "output_type": "display_data"
    },
    {
     "data": {
      "image/png": "[encoded data removed]",
      "text/plain": [
       "<Figure size 1440x720 with 19 Axes>"
      ]
     },
     "metadata": {
      "tags": []
     },
     "output_type": "display_data"
    },
    {
     "data": {
      "image/png": "[encoded data removed]",
      "text/plain": [
       "<Figure size 1440x720 with 19 Axes>"
      ]
     },
     "metadata": {
      "tags": []
     },
     "output_type": "display_data"
    },
    {
     "data": {
      "image/png": "[encoded data removed]",
      "text/plain": [
       "<Figure size 1440x720 with 19 Axes>"
      ]
     },
     "metadata": {
      "tags": []
     },
     "output_type": "display_data"
    },
    {
     "data": {
      "image/png": "[encoded data removed]",
      "text/plain": [
       "<Figure size 1440x720 with 19 Axes>"
      ]
     },
     "metadata": {
      "tags": []
     },
     "output_type": "display_data"
    },
    {
     "data": {
      "image/png": "[encoded data removed]",
      "text/plain": [
       "<Figure size 1440x720 with 19 Axes>"
      ]
     },
     "metadata": {
      "tags": []
     },
     "output_type": "display_data"
    },
    {
     "data": {
      "image/png": "[encoded data removed]",
      "text/plain": [
       "<Figure size 1440x720 with 19 Axes>"
      ]
     },
     "metadata": {
      "tags": []
     },
     "output_type": "display_data"
    },
    {
     "data": {
      "image/png": "[encoded data removed]",
      "text/plain": [
       "<Figure size 1440x720 with 19 Axes>"
      ]
     },
     "metadata": {
      "tags": []
     },
     "output_type": "display_data"
    },
    {
     "data": {
      "image/png": "[encoded data removed]",
      "text/plain": [
       "<Figure size 1440x720 with 19 Axes>"
      ]
     },
     "metadata": {
      "tags": []
     },
     "output_type": "display_data"
    },
    {
     "data": {
      "image/png": "[encoded data removed]",
      "text/plain": [
       "<Figure size 1440x720 with 19 Axes>"
      ]
     },
     "metadata": {
      "tags": []
     },
     "output_type": "display_data"
    },
    {
     "data": {
      "image/png": "[encoded data removed]",
      "text/plain": [
       "<Figure size 1440x720 with 19 Axes>"
      ]
     },
     "metadata": {
      "tags": []
     },
     "output_type": "display_data"
    },
    {
     "data": {
      "image/png": "[encoded data removed]",
      "text/plain": [
       "<Figure size 1440x720 with 19 Axes>"
      ]
     },
     "metadata": {
      "tags": []
     },
     "output_type": "display_data"
    },
    {
     "data": {
      "image/png": "[encoded data removed]",
      "text/plain": [
       "<Figure size 1440x720 with 19 Axes>"
      ]
     },
     "metadata": {
      "tags": []
     },
     "output_type": "display_data"
    },
    {
     "data": {
      "image/png": "[encoded data removed]",
      "text/plain": [
       "<Figure size 1440x720 with 19 Axes>"
      ]
     },
     "metadata": {
      "tags": []
     },
     "output_type": "display_data"
    },
    {
     "data": {
      "image/png": "[encoded data removed]",
      "text/plain": [
       "<Figure size 1440x720 with 19 Axes>"
      ]
     },
     "metadata": {
      "tags": []
     },
     "output_type": "display_data"
    },
    {
     "data": {
      "image/png": "[encoded data removed]",
      "text/plain": [
       "<Figure size 1440x720 with 19 Axes>"
      ]
     },
     "metadata": {
      "tags": []
     },
     "output_type": "display_data"
    },
    {
     "data": {
      "image/png": "[encoded data removed]",
      "text/plain": [
       "<Figure size 1440x720 with 19 Axes>"
      ]
     },
     "metadata": {
      "tags": []
     },
     "output_type": "display_data"
    },
    {
     "data": {
      "image/png": "[encoded data removed]",
      "text/plain": [
       "<Figure size 1440x720 with 19 Axes>"
      ]
     },
     "metadata": {
      "tags": []
     },
     "output_type": "display_data"
    },
    {
     "data": {
      "image/png": "[encoded data removed]",
      "text/plain": [
       "<Figure size 1440x720 with 19 Axes>"
      ]
     },
     "metadata": {
      "tags": []
     },
     "output_type": "display_data"
    },
    {
     "data": {
      "image/png": "[encoded data removed]",
      "text/plain": [
       "<Figure size 1440x720 with 19 Axes>"
      ]
     },
     "metadata": {
      "tags": []
     },
     "output_type": "display_data"
    },
    {
     "data": {
      "image/png": "[encoded data removed]",
      "text/plain": [
       "<Figure size 1440x720 with 19 Axes>"
      ]
     },
     "metadata": {
      "tags": []
     },
     "output_type": "display_data"
    },
    {
     "data": {
      "image/png": "[encoded data removed]",
      "text/plain": [
       "<Figure size 1440x720 with 19 Axes>"
      ]
     },
     "metadata": {
      "tags": []
     },
     "output_type": "display_data"
    }
   ],
   "source": [
    "for letter in unique_labels: \n",
    "    _df = df_filter[df_filter.iloc[:, -1]  == letter]\n",
    "    _df = _df[_df.columns[0:400]]\n",
    "    a,_ = _df.shape\n",
    "    _array = _df.as_matrix().reshape(a,20,20)\n",
    "    _array = np.float32(_array)\n",
    "    plt.figure(figsize=(20,10))\n",
    "    for i in range(len(_array[1:20])):    \n",
    "    plt.subplot(1,20,i+1), plt.imshow(_array[i] ,'gray')    \n",
    "    plt.xticks([]),plt.yticks([])\n",
    "    plt.show()\n"
   ]
  },
  {
   "cell_type": "markdown",
   "metadata": {},
   "source": [
    "### Ze względów wydajnościowych i konieczności przetwarzania całego zbioru od początu, dane zostały zapisane do pliku"
   ]
  },
  {
   "cell_type": "code",
   "execution_count": 0,
   "metadata": {
    "colab": {},
    "colab_type": "code",
    "id": "0LbpldNr7Poz"
   },
   "outputs": [],
   "source": [
    "df_filter.to_csv('clean_dataset.csv')"
   ]
  },
  {
   "cell_type": "code",
   "execution_count": null,
   "metadata": {
    "colab": {
     "base_uri": "https://localhost:8080/",
     "height": 52
    },
    "colab_type": "code",
    "id": "vP9LnSaFLQjG",
    "outputId": "5d19e98e-7ef5-45ae-a490-4c477d5da0ba"
   },
   "outputs": [],
   "source": [
    "!cp clean_dataset.csv \"/content/gdrive/My Drive/Colab Notebooks/\"\n",
    "!ls \"/content/gdrive/My Drive/Colab Notebooks/\""
   ]
  },
  {
   "cell_type": "code",
   "execution_count": 4,
   "metadata": {
    "colab": {
     "base_uri": "https://localhost:8080/",
     "height": 170
    },
    "colab_type": "code",
    "id": "nnmg51ebL9Zj",
    "outputId": "cb551c8a-8ea9-4be9-8768-4027c8acc961"
   },
   "outputs": [
    {
     "name": "stdout",
     "output_type": "stream",
     "text": [
      "(58111, 401)\n",
      "     0    1    2    3    4    5      6  ...    394    395    396  397  398  399  400\n",
      "0  0.0  0.0  0.0  0.0  0.0  0.0  255.0  ...  255.0  255.0  255.0  0.0  0.0  0.0    Q\n",
      "1  0.0  0.0  0.0  0.0  0.0  0.0    0.0  ...  255.0  255.0    0.0  0.0  0.0  0.0    Q\n",
      "2  0.0  0.0  0.0  0.0  0.0  0.0    0.0  ...  255.0  255.0    0.0  0.0  0.0  0.0    Q\n",
      "3  0.0  0.0  0.0  0.0  0.0  0.0  255.0  ...    0.0    0.0    0.0  0.0  0.0  0.0    Q\n",
      "4  0.0  0.0  0.0  0.0  0.0  0.0    0.0  ...    0.0    0.0    0.0  0.0  0.0  0.0    Q\n",
      "\n",
      "[5 rows x 401 columns]\n"
     ]
    }
   ],
   "source": [
    "df_filter=pd.read_csv('/content/gdrive/My Drive/Colab Notebooks/clean_dataset.csv')\n",
    "df_filter  = df_filter.drop(df_filter.columns[0], axis=1)\n",
    "print(df_filter.shape)\n",
    "print(df_filter.head(5))"
   ]
  },
  {
   "cell_type": "markdown",
   "metadata": {
    "colab": {},
    "colab_type": "code",
    "id": "n9vjucszBnJg"
   },
   "source": [
    "### Dodatkowe usunięcie całych czarnych obrazów"
   ]
  },
  {
   "cell_type": "code",
   "execution_count": 5,
   "metadata": {
    "colab": {
     "base_uri": "https://localhost:8080/",
     "height": 170
    },
    "colab_type": "code",
    "id": "A6vwl0cNgZee",
    "outputId": "2f607189-fa69-4a5f-d981-ea4f0a8e938b"
   },
   "outputs": [
    {
     "name": "stdout",
     "output_type": "stream",
     "text": [
      "(56471, 401)\n",
      "     0    1    2    3    4    5      6  ...    394    395    396  397  398  399  400\n",
      "0  0.0  0.0  0.0  0.0  0.0  0.0  255.0  ...  255.0  255.0  255.0  0.0  0.0  0.0    Q\n",
      "1  0.0  0.0  0.0  0.0  0.0  0.0    0.0  ...  255.0  255.0    0.0  0.0  0.0  0.0    Q\n",
      "2  0.0  0.0  0.0  0.0  0.0  0.0    0.0  ...  255.0  255.0    0.0  0.0  0.0  0.0    Q\n",
      "3  0.0  0.0  0.0  0.0  0.0  0.0  255.0  ...    0.0    0.0    0.0  0.0  0.0  0.0    Q\n",
      "4  0.0  0.0  0.0  0.0  0.0  0.0    0.0  ...    0.0    0.0    0.0  0.0  0.0  0.0    Q\n",
      "\n",
      "[5 rows x 401 columns]\n"
     ]
    }
   ],
   "source": [
    "#usuń wiersze z samymi zerami\n",
    "df_filter_binary = df_filter.loc[(df_filter[df_filter.columns[:-1]]!=0).any(axis=1)]\n",
    "print(df_filter_binary.shape)\n",
    "print(df_filter_binary.head(5))"
   ]
  },
  {
   "cell_type": "markdown",
   "metadata": {},
   "source": [
    "### Transformacja danych do postaci binarnej"
   ]
  },
  {
   "cell_type": "code",
   "execution_count": 0,
   "metadata": {
    "colab": {},
    "colab_type": "code",
    "id": "Hyfx3gimKrK1"
   },
   "outputs": [],
   "source": [
    "X = df_filter_binary.drop(df_filter_binary.columns[-1],1)\n",
    "y = df_filter_binary[df_filter_binary.columns[-1]]"
   ]
  },
  {
   "cell_type": "code",
   "execution_count": 7,
   "metadata": {
    "colab": {
     "base_uri": "https://localhost:8080/",
     "height": 408
    },
    "colab_type": "code",
    "id": "zA0U44UFKrga",
    "outputId": "743a3a9a-3af2-4422-cd7a-18a80e3f575c"
   },
   "outputs": [
    {
     "data": {
      "text/html": [
       "<div>\n",
       "<style scoped>\n",
       "    .dataframe tbody tr th:only-of-type {\n",
       "        vertical-align: middle;\n",
       "    }\n",
       "\n",
       "    .dataframe tbody tr th {\n",
       "        vertical-align: top;\n",
       "    }\n",
       "\n",
       "    .dataframe thead th {\n",
       "        text-align: right;\n",
       "    }\n",
       "</style>\n",
       "<table border=\"1\" class=\"dataframe\">\n",
       "  <thead>\n",
       "    <tr style=\"text-align: right;\">\n",
       "      <th></th>\n",
       "      <th>0</th>\n",
       "      <th>1</th>\n",
       "      <th>2</th>\n",
       "      <th>3</th>\n",
       "      <th>4</th>\n",
       "      <th>5</th>\n",
       "      <th>6</th>\n",
       "      <th>7</th>\n",
       "      <th>8</th>\n",
       "      <th>9</th>\n",
       "      <th>10</th>\n",
       "      <th>11</th>\n",
       "      <th>12</th>\n",
       "      <th>13</th>\n",
       "      <th>14</th>\n",
       "      <th>15</th>\n",
       "      <th>16</th>\n",
       "      <th>17</th>\n",
       "      <th>18</th>\n",
       "      <th>19</th>\n",
       "      <th>20</th>\n",
       "      <th>21</th>\n",
       "      <th>22</th>\n",
       "      <th>23</th>\n",
       "      <th>24</th>\n",
       "      <th>25</th>\n",
       "      <th>26</th>\n",
       "      <th>27</th>\n",
       "      <th>28</th>\n",
       "      <th>29</th>\n",
       "      <th>30</th>\n",
       "      <th>31</th>\n",
       "      <th>32</th>\n",
       "      <th>33</th>\n",
       "      <th>34</th>\n",
       "      <th>35</th>\n",
       "      <th>36</th>\n",
       "      <th>37</th>\n",
       "      <th>38</th>\n",
       "      <th>39</th>\n",
       "      <th>...</th>\n",
       "      <th>360</th>\n",
       "      <th>361</th>\n",
       "      <th>362</th>\n",
       "      <th>363</th>\n",
       "      <th>364</th>\n",
       "      <th>365</th>\n",
       "      <th>366</th>\n",
       "      <th>367</th>\n",
       "      <th>368</th>\n",
       "      <th>369</th>\n",
       "      <th>370</th>\n",
       "      <th>371</th>\n",
       "      <th>372</th>\n",
       "      <th>373</th>\n",
       "      <th>374</th>\n",
       "      <th>375</th>\n",
       "      <th>376</th>\n",
       "      <th>377</th>\n",
       "      <th>378</th>\n",
       "      <th>379</th>\n",
       "      <th>380</th>\n",
       "      <th>381</th>\n",
       "      <th>382</th>\n",
       "      <th>383</th>\n",
       "      <th>384</th>\n",
       "      <th>385</th>\n",
       "      <th>386</th>\n",
       "      <th>387</th>\n",
       "      <th>388</th>\n",
       "      <th>389</th>\n",
       "      <th>390</th>\n",
       "      <th>391</th>\n",
       "      <th>392</th>\n",
       "      <th>393</th>\n",
       "      <th>394</th>\n",
       "      <th>395</th>\n",
       "      <th>396</th>\n",
       "      <th>397</th>\n",
       "      <th>398</th>\n",
       "      <th>399</th>\n",
       "    </tr>\n",
       "  </thead>\n",
       "  <tbody>\n",
       "    <tr>\n",
       "      <th>0</th>\n",
       "      <td>0</td>\n",
       "      <td>0</td>\n",
       "      <td>0</td>\n",
       "      <td>0</td>\n",
       "      <td>0</td>\n",
       "      <td>0</td>\n",
       "      <td>1</td>\n",
       "      <td>1</td>\n",
       "      <td>1</td>\n",
       "      <td>1</td>\n",
       "      <td>1</td>\n",
       "      <td>1</td>\n",
       "      <td>1</td>\n",
       "      <td>1</td>\n",
       "      <td>0</td>\n",
       "      <td>0</td>\n",
       "      <td>0</td>\n",
       "      <td>0</td>\n",
       "      <td>0</td>\n",
       "      <td>0</td>\n",
       "      <td>0</td>\n",
       "      <td>0</td>\n",
       "      <td>0</td>\n",
       "      <td>0</td>\n",
       "      <td>0</td>\n",
       "      <td>0</td>\n",
       "      <td>1</td>\n",
       "      <td>1</td>\n",
       "      <td>1</td>\n",
       "      <td>1</td>\n",
       "      <td>1</td>\n",
       "      <td>1</td>\n",
       "      <td>1</td>\n",
       "      <td>1</td>\n",
       "      <td>0</td>\n",
       "      <td>0</td>\n",
       "      <td>0</td>\n",
       "      <td>0</td>\n",
       "      <td>0</td>\n",
       "      <td>0</td>\n",
       "      <td>...</td>\n",
       "      <td>0</td>\n",
       "      <td>0</td>\n",
       "      <td>0</td>\n",
       "      <td>0</td>\n",
       "      <td>0</td>\n",
       "      <td>0</td>\n",
       "      <td>0</td>\n",
       "      <td>0</td>\n",
       "      <td>0</td>\n",
       "      <td>1</td>\n",
       "      <td>1</td>\n",
       "      <td>1</td>\n",
       "      <td>1</td>\n",
       "      <td>1</td>\n",
       "      <td>1</td>\n",
       "      <td>1</td>\n",
       "      <td>1</td>\n",
       "      <td>1</td>\n",
       "      <td>0</td>\n",
       "      <td>0</td>\n",
       "      <td>0</td>\n",
       "      <td>0</td>\n",
       "      <td>0</td>\n",
       "      <td>0</td>\n",
       "      <td>0</td>\n",
       "      <td>0</td>\n",
       "      <td>0</td>\n",
       "      <td>0</td>\n",
       "      <td>0</td>\n",
       "      <td>0</td>\n",
       "      <td>1</td>\n",
       "      <td>1</td>\n",
       "      <td>1</td>\n",
       "      <td>1</td>\n",
       "      <td>1</td>\n",
       "      <td>1</td>\n",
       "      <td>1</td>\n",
       "      <td>0</td>\n",
       "      <td>0</td>\n",
       "      <td>0</td>\n",
       "    </tr>\n",
       "    <tr>\n",
       "      <th>1</th>\n",
       "      <td>0</td>\n",
       "      <td>0</td>\n",
       "      <td>0</td>\n",
       "      <td>0</td>\n",
       "      <td>0</td>\n",
       "      <td>0</td>\n",
       "      <td>0</td>\n",
       "      <td>0</td>\n",
       "      <td>1</td>\n",
       "      <td>1</td>\n",
       "      <td>1</td>\n",
       "      <td>0</td>\n",
       "      <td>0</td>\n",
       "      <td>0</td>\n",
       "      <td>1</td>\n",
       "      <td>1</td>\n",
       "      <td>1</td>\n",
       "      <td>0</td>\n",
       "      <td>0</td>\n",
       "      <td>0</td>\n",
       "      <td>0</td>\n",
       "      <td>0</td>\n",
       "      <td>0</td>\n",
       "      <td>0</td>\n",
       "      <td>0</td>\n",
       "      <td>0</td>\n",
       "      <td>0</td>\n",
       "      <td>0</td>\n",
       "      <td>1</td>\n",
       "      <td>1</td>\n",
       "      <td>1</td>\n",
       "      <td>0</td>\n",
       "      <td>0</td>\n",
       "      <td>0</td>\n",
       "      <td>1</td>\n",
       "      <td>1</td>\n",
       "      <td>1</td>\n",
       "      <td>0</td>\n",
       "      <td>0</td>\n",
       "      <td>0</td>\n",
       "      <td>...</td>\n",
       "      <td>0</td>\n",
       "      <td>0</td>\n",
       "      <td>0</td>\n",
       "      <td>0</td>\n",
       "      <td>0</td>\n",
       "      <td>0</td>\n",
       "      <td>0</td>\n",
       "      <td>0</td>\n",
       "      <td>0</td>\n",
       "      <td>0</td>\n",
       "      <td>0</td>\n",
       "      <td>1</td>\n",
       "      <td>1</td>\n",
       "      <td>1</td>\n",
       "      <td>1</td>\n",
       "      <td>1</td>\n",
       "      <td>1</td>\n",
       "      <td>0</td>\n",
       "      <td>0</td>\n",
       "      <td>0</td>\n",
       "      <td>0</td>\n",
       "      <td>0</td>\n",
       "      <td>0</td>\n",
       "      <td>0</td>\n",
       "      <td>0</td>\n",
       "      <td>0</td>\n",
       "      <td>0</td>\n",
       "      <td>0</td>\n",
       "      <td>0</td>\n",
       "      <td>0</td>\n",
       "      <td>0</td>\n",
       "      <td>0</td>\n",
       "      <td>1</td>\n",
       "      <td>1</td>\n",
       "      <td>1</td>\n",
       "      <td>1</td>\n",
       "      <td>0</td>\n",
       "      <td>0</td>\n",
       "      <td>0</td>\n",
       "      <td>0</td>\n",
       "    </tr>\n",
       "    <tr>\n",
       "      <th>2</th>\n",
       "      <td>0</td>\n",
       "      <td>0</td>\n",
       "      <td>0</td>\n",
       "      <td>0</td>\n",
       "      <td>0</td>\n",
       "      <td>0</td>\n",
       "      <td>0</td>\n",
       "      <td>1</td>\n",
       "      <td>1</td>\n",
       "      <td>1</td>\n",
       "      <td>1</td>\n",
       "      <td>1</td>\n",
       "      <td>1</td>\n",
       "      <td>1</td>\n",
       "      <td>0</td>\n",
       "      <td>0</td>\n",
       "      <td>0</td>\n",
       "      <td>0</td>\n",
       "      <td>0</td>\n",
       "      <td>0</td>\n",
       "      <td>0</td>\n",
       "      <td>0</td>\n",
       "      <td>0</td>\n",
       "      <td>0</td>\n",
       "      <td>0</td>\n",
       "      <td>0</td>\n",
       "      <td>0</td>\n",
       "      <td>1</td>\n",
       "      <td>1</td>\n",
       "      <td>1</td>\n",
       "      <td>1</td>\n",
       "      <td>1</td>\n",
       "      <td>1</td>\n",
       "      <td>1</td>\n",
       "      <td>0</td>\n",
       "      <td>0</td>\n",
       "      <td>0</td>\n",
       "      <td>0</td>\n",
       "      <td>0</td>\n",
       "      <td>0</td>\n",
       "      <td>...</td>\n",
       "      <td>0</td>\n",
       "      <td>0</td>\n",
       "      <td>0</td>\n",
       "      <td>0</td>\n",
       "      <td>0</td>\n",
       "      <td>0</td>\n",
       "      <td>0</td>\n",
       "      <td>0</td>\n",
       "      <td>0</td>\n",
       "      <td>0</td>\n",
       "      <td>0</td>\n",
       "      <td>0</td>\n",
       "      <td>0</td>\n",
       "      <td>1</td>\n",
       "      <td>1</td>\n",
       "      <td>1</td>\n",
       "      <td>1</td>\n",
       "      <td>1</td>\n",
       "      <td>0</td>\n",
       "      <td>0</td>\n",
       "      <td>0</td>\n",
       "      <td>0</td>\n",
       "      <td>0</td>\n",
       "      <td>0</td>\n",
       "      <td>0</td>\n",
       "      <td>0</td>\n",
       "      <td>0</td>\n",
       "      <td>0</td>\n",
       "      <td>0</td>\n",
       "      <td>0</td>\n",
       "      <td>0</td>\n",
       "      <td>0</td>\n",
       "      <td>0</td>\n",
       "      <td>0</td>\n",
       "      <td>1</td>\n",
       "      <td>1</td>\n",
       "      <td>0</td>\n",
       "      <td>0</td>\n",
       "      <td>0</td>\n",
       "      <td>0</td>\n",
       "    </tr>\n",
       "    <tr>\n",
       "      <th>3</th>\n",
       "      <td>0</td>\n",
       "      <td>0</td>\n",
       "      <td>0</td>\n",
       "      <td>0</td>\n",
       "      <td>0</td>\n",
       "      <td>0</td>\n",
       "      <td>1</td>\n",
       "      <td>1</td>\n",
       "      <td>1</td>\n",
       "      <td>1</td>\n",
       "      <td>1</td>\n",
       "      <td>0</td>\n",
       "      <td>0</td>\n",
       "      <td>0</td>\n",
       "      <td>0</td>\n",
       "      <td>0</td>\n",
       "      <td>0</td>\n",
       "      <td>0</td>\n",
       "      <td>0</td>\n",
       "      <td>0</td>\n",
       "      <td>0</td>\n",
       "      <td>0</td>\n",
       "      <td>0</td>\n",
       "      <td>0</td>\n",
       "      <td>0</td>\n",
       "      <td>0</td>\n",
       "      <td>1</td>\n",
       "      <td>1</td>\n",
       "      <td>1</td>\n",
       "      <td>1</td>\n",
       "      <td>1</td>\n",
       "      <td>0</td>\n",
       "      <td>0</td>\n",
       "      <td>0</td>\n",
       "      <td>0</td>\n",
       "      <td>0</td>\n",
       "      <td>0</td>\n",
       "      <td>0</td>\n",
       "      <td>0</td>\n",
       "      <td>0</td>\n",
       "      <td>...</td>\n",
       "      <td>0</td>\n",
       "      <td>0</td>\n",
       "      <td>0</td>\n",
       "      <td>0</td>\n",
       "      <td>0</td>\n",
       "      <td>0</td>\n",
       "      <td>1</td>\n",
       "      <td>1</td>\n",
       "      <td>1</td>\n",
       "      <td>1</td>\n",
       "      <td>0</td>\n",
       "      <td>0</td>\n",
       "      <td>0</td>\n",
       "      <td>0</td>\n",
       "      <td>0</td>\n",
       "      <td>0</td>\n",
       "      <td>0</td>\n",
       "      <td>0</td>\n",
       "      <td>0</td>\n",
       "      <td>0</td>\n",
       "      <td>0</td>\n",
       "      <td>0</td>\n",
       "      <td>0</td>\n",
       "      <td>0</td>\n",
       "      <td>0</td>\n",
       "      <td>0</td>\n",
       "      <td>0</td>\n",
       "      <td>0</td>\n",
       "      <td>0</td>\n",
       "      <td>0</td>\n",
       "      <td>0</td>\n",
       "      <td>0</td>\n",
       "      <td>0</td>\n",
       "      <td>0</td>\n",
       "      <td>0</td>\n",
       "      <td>0</td>\n",
       "      <td>0</td>\n",
       "      <td>0</td>\n",
       "      <td>0</td>\n",
       "      <td>0</td>\n",
       "    </tr>\n",
       "    <tr>\n",
       "      <th>4</th>\n",
       "      <td>0</td>\n",
       "      <td>0</td>\n",
       "      <td>0</td>\n",
       "      <td>0</td>\n",
       "      <td>0</td>\n",
       "      <td>0</td>\n",
       "      <td>0</td>\n",
       "      <td>0</td>\n",
       "      <td>0</td>\n",
       "      <td>0</td>\n",
       "      <td>0</td>\n",
       "      <td>0</td>\n",
       "      <td>0</td>\n",
       "      <td>0</td>\n",
       "      <td>0</td>\n",
       "      <td>0</td>\n",
       "      <td>0</td>\n",
       "      <td>0</td>\n",
       "      <td>0</td>\n",
       "      <td>0</td>\n",
       "      <td>0</td>\n",
       "      <td>0</td>\n",
       "      <td>0</td>\n",
       "      <td>0</td>\n",
       "      <td>0</td>\n",
       "      <td>0</td>\n",
       "      <td>0</td>\n",
       "      <td>0</td>\n",
       "      <td>0</td>\n",
       "      <td>0</td>\n",
       "      <td>0</td>\n",
       "      <td>0</td>\n",
       "      <td>0</td>\n",
       "      <td>0</td>\n",
       "      <td>0</td>\n",
       "      <td>0</td>\n",
       "      <td>0</td>\n",
       "      <td>0</td>\n",
       "      <td>0</td>\n",
       "      <td>0</td>\n",
       "      <td>...</td>\n",
       "      <td>0</td>\n",
       "      <td>0</td>\n",
       "      <td>0</td>\n",
       "      <td>0</td>\n",
       "      <td>0</td>\n",
       "      <td>0</td>\n",
       "      <td>0</td>\n",
       "      <td>0</td>\n",
       "      <td>0</td>\n",
       "      <td>0</td>\n",
       "      <td>0</td>\n",
       "      <td>0</td>\n",
       "      <td>0</td>\n",
       "      <td>0</td>\n",
       "      <td>0</td>\n",
       "      <td>0</td>\n",
       "      <td>0</td>\n",
       "      <td>0</td>\n",
       "      <td>0</td>\n",
       "      <td>0</td>\n",
       "      <td>0</td>\n",
       "      <td>0</td>\n",
       "      <td>0</td>\n",
       "      <td>0</td>\n",
       "      <td>0</td>\n",
       "      <td>0</td>\n",
       "      <td>0</td>\n",
       "      <td>0</td>\n",
       "      <td>0</td>\n",
       "      <td>0</td>\n",
       "      <td>0</td>\n",
       "      <td>0</td>\n",
       "      <td>0</td>\n",
       "      <td>0</td>\n",
       "      <td>0</td>\n",
       "      <td>0</td>\n",
       "      <td>0</td>\n",
       "      <td>0</td>\n",
       "      <td>0</td>\n",
       "      <td>0</td>\n",
       "    </tr>\n",
       "    <tr>\n",
       "      <th>6</th>\n",
       "      <td>0</td>\n",
       "      <td>0</td>\n",
       "      <td>0</td>\n",
       "      <td>0</td>\n",
       "      <td>0</td>\n",
       "      <td>0</td>\n",
       "      <td>0</td>\n",
       "      <td>1</td>\n",
       "      <td>1</td>\n",
       "      <td>1</td>\n",
       "      <td>1</td>\n",
       "      <td>1</td>\n",
       "      <td>1</td>\n",
       "      <td>1</td>\n",
       "      <td>1</td>\n",
       "      <td>0</td>\n",
       "      <td>0</td>\n",
       "      <td>0</td>\n",
       "      <td>0</td>\n",
       "      <td>0</td>\n",
       "      <td>0</td>\n",
       "      <td>0</td>\n",
       "      <td>0</td>\n",
       "      <td>0</td>\n",
       "      <td>0</td>\n",
       "      <td>0</td>\n",
       "      <td>0</td>\n",
       "      <td>1</td>\n",
       "      <td>1</td>\n",
       "      <td>1</td>\n",
       "      <td>1</td>\n",
       "      <td>1</td>\n",
       "      <td>1</td>\n",
       "      <td>1</td>\n",
       "      <td>1</td>\n",
       "      <td>0</td>\n",
       "      <td>0</td>\n",
       "      <td>0</td>\n",
       "      <td>0</td>\n",
       "      <td>0</td>\n",
       "      <td>...</td>\n",
       "      <td>0</td>\n",
       "      <td>0</td>\n",
       "      <td>0</td>\n",
       "      <td>0</td>\n",
       "      <td>0</td>\n",
       "      <td>0</td>\n",
       "      <td>0</td>\n",
       "      <td>0</td>\n",
       "      <td>0</td>\n",
       "      <td>0</td>\n",
       "      <td>0</td>\n",
       "      <td>0</td>\n",
       "      <td>0</td>\n",
       "      <td>0</td>\n",
       "      <td>1</td>\n",
       "      <td>1</td>\n",
       "      <td>1</td>\n",
       "      <td>0</td>\n",
       "      <td>0</td>\n",
       "      <td>0</td>\n",
       "      <td>0</td>\n",
       "      <td>0</td>\n",
       "      <td>0</td>\n",
       "      <td>0</td>\n",
       "      <td>0</td>\n",
       "      <td>0</td>\n",
       "      <td>0</td>\n",
       "      <td>0</td>\n",
       "      <td>0</td>\n",
       "      <td>0</td>\n",
       "      <td>0</td>\n",
       "      <td>0</td>\n",
       "      <td>0</td>\n",
       "      <td>0</td>\n",
       "      <td>0</td>\n",
       "      <td>0</td>\n",
       "      <td>1</td>\n",
       "      <td>1</td>\n",
       "      <td>1</td>\n",
       "      <td>1</td>\n",
       "    </tr>\n",
       "    <tr>\n",
       "      <th>7</th>\n",
       "      <td>0</td>\n",
       "      <td>0</td>\n",
       "      <td>0</td>\n",
       "      <td>0</td>\n",
       "      <td>0</td>\n",
       "      <td>0</td>\n",
       "      <td>1</td>\n",
       "      <td>1</td>\n",
       "      <td>1</td>\n",
       "      <td>1</td>\n",
       "      <td>1</td>\n",
       "      <td>1</td>\n",
       "      <td>1</td>\n",
       "      <td>1</td>\n",
       "      <td>1</td>\n",
       "      <td>0</td>\n",
       "      <td>0</td>\n",
       "      <td>0</td>\n",
       "      <td>0</td>\n",
       "      <td>0</td>\n",
       "      <td>0</td>\n",
       "      <td>0</td>\n",
       "      <td>0</td>\n",
       "      <td>0</td>\n",
       "      <td>0</td>\n",
       "      <td>0</td>\n",
       "      <td>1</td>\n",
       "      <td>1</td>\n",
       "      <td>1</td>\n",
       "      <td>1</td>\n",
       "      <td>1</td>\n",
       "      <td>1</td>\n",
       "      <td>1</td>\n",
       "      <td>1</td>\n",
       "      <td>1</td>\n",
       "      <td>0</td>\n",
       "      <td>0</td>\n",
       "      <td>0</td>\n",
       "      <td>0</td>\n",
       "      <td>0</td>\n",
       "      <td>...</td>\n",
       "      <td>0</td>\n",
       "      <td>0</td>\n",
       "      <td>0</td>\n",
       "      <td>0</td>\n",
       "      <td>0</td>\n",
       "      <td>0</td>\n",
       "      <td>0</td>\n",
       "      <td>0</td>\n",
       "      <td>0</td>\n",
       "      <td>1</td>\n",
       "      <td>1</td>\n",
       "      <td>1</td>\n",
       "      <td>1</td>\n",
       "      <td>1</td>\n",
       "      <td>0</td>\n",
       "      <td>0</td>\n",
       "      <td>0</td>\n",
       "      <td>0</td>\n",
       "      <td>0</td>\n",
       "      <td>0</td>\n",
       "      <td>0</td>\n",
       "      <td>0</td>\n",
       "      <td>0</td>\n",
       "      <td>0</td>\n",
       "      <td>0</td>\n",
       "      <td>0</td>\n",
       "      <td>0</td>\n",
       "      <td>0</td>\n",
       "      <td>0</td>\n",
       "      <td>0</td>\n",
       "      <td>1</td>\n",
       "      <td>1</td>\n",
       "      <td>1</td>\n",
       "      <td>1</td>\n",
       "      <td>0</td>\n",
       "      <td>0</td>\n",
       "      <td>0</td>\n",
       "      <td>0</td>\n",
       "      <td>0</td>\n",
       "      <td>0</td>\n",
       "    </tr>\n",
       "    <tr>\n",
       "      <th>8</th>\n",
       "      <td>0</td>\n",
       "      <td>0</td>\n",
       "      <td>0</td>\n",
       "      <td>0</td>\n",
       "      <td>0</td>\n",
       "      <td>0</td>\n",
       "      <td>1</td>\n",
       "      <td>1</td>\n",
       "      <td>1</td>\n",
       "      <td>1</td>\n",
       "      <td>0</td>\n",
       "      <td>1</td>\n",
       "      <td>1</td>\n",
       "      <td>1</td>\n",
       "      <td>1</td>\n",
       "      <td>0</td>\n",
       "      <td>0</td>\n",
       "      <td>0</td>\n",
       "      <td>0</td>\n",
       "      <td>0</td>\n",
       "      <td>0</td>\n",
       "      <td>0</td>\n",
       "      <td>0</td>\n",
       "      <td>0</td>\n",
       "      <td>0</td>\n",
       "      <td>0</td>\n",
       "      <td>1</td>\n",
       "      <td>1</td>\n",
       "      <td>1</td>\n",
       "      <td>1</td>\n",
       "      <td>0</td>\n",
       "      <td>1</td>\n",
       "      <td>1</td>\n",
       "      <td>1</td>\n",
       "      <td>1</td>\n",
       "      <td>0</td>\n",
       "      <td>0</td>\n",
       "      <td>0</td>\n",
       "      <td>0</td>\n",
       "      <td>0</td>\n",
       "      <td>...</td>\n",
       "      <td>0</td>\n",
       "      <td>0</td>\n",
       "      <td>0</td>\n",
       "      <td>0</td>\n",
       "      <td>0</td>\n",
       "      <td>0</td>\n",
       "      <td>0</td>\n",
       "      <td>0</td>\n",
       "      <td>0</td>\n",
       "      <td>0</td>\n",
       "      <td>0</td>\n",
       "      <td>0</td>\n",
       "      <td>0</td>\n",
       "      <td>1</td>\n",
       "      <td>1</td>\n",
       "      <td>1</td>\n",
       "      <td>1</td>\n",
       "      <td>1</td>\n",
       "      <td>1</td>\n",
       "      <td>0</td>\n",
       "      <td>0</td>\n",
       "      <td>0</td>\n",
       "      <td>0</td>\n",
       "      <td>0</td>\n",
       "      <td>0</td>\n",
       "      <td>0</td>\n",
       "      <td>0</td>\n",
       "      <td>0</td>\n",
       "      <td>0</td>\n",
       "      <td>0</td>\n",
       "      <td>0</td>\n",
       "      <td>0</td>\n",
       "      <td>0</td>\n",
       "      <td>0</td>\n",
       "      <td>1</td>\n",
       "      <td>1</td>\n",
       "      <td>1</td>\n",
       "      <td>1</td>\n",
       "      <td>0</td>\n",
       "      <td>0</td>\n",
       "    </tr>\n",
       "    <tr>\n",
       "      <th>9</th>\n",
       "      <td>0</td>\n",
       "      <td>0</td>\n",
       "      <td>0</td>\n",
       "      <td>0</td>\n",
       "      <td>0</td>\n",
       "      <td>1</td>\n",
       "      <td>1</td>\n",
       "      <td>1</td>\n",
       "      <td>1</td>\n",
       "      <td>1</td>\n",
       "      <td>1</td>\n",
       "      <td>1</td>\n",
       "      <td>1</td>\n",
       "      <td>0</td>\n",
       "      <td>0</td>\n",
       "      <td>0</td>\n",
       "      <td>0</td>\n",
       "      <td>0</td>\n",
       "      <td>0</td>\n",
       "      <td>0</td>\n",
       "      <td>0</td>\n",
       "      <td>0</td>\n",
       "      <td>0</td>\n",
       "      <td>0</td>\n",
       "      <td>0</td>\n",
       "      <td>1</td>\n",
       "      <td>1</td>\n",
       "      <td>1</td>\n",
       "      <td>1</td>\n",
       "      <td>1</td>\n",
       "      <td>1</td>\n",
       "      <td>1</td>\n",
       "      <td>1</td>\n",
       "      <td>0</td>\n",
       "      <td>0</td>\n",
       "      <td>0</td>\n",
       "      <td>0</td>\n",
       "      <td>0</td>\n",
       "      <td>0</td>\n",
       "      <td>0</td>\n",
       "      <td>...</td>\n",
       "      <td>0</td>\n",
       "      <td>0</td>\n",
       "      <td>0</td>\n",
       "      <td>0</td>\n",
       "      <td>0</td>\n",
       "      <td>0</td>\n",
       "      <td>0</td>\n",
       "      <td>0</td>\n",
       "      <td>0</td>\n",
       "      <td>0</td>\n",
       "      <td>0</td>\n",
       "      <td>0</td>\n",
       "      <td>1</td>\n",
       "      <td>1</td>\n",
       "      <td>0</td>\n",
       "      <td>0</td>\n",
       "      <td>0</td>\n",
       "      <td>0</td>\n",
       "      <td>0</td>\n",
       "      <td>0</td>\n",
       "      <td>0</td>\n",
       "      <td>0</td>\n",
       "      <td>0</td>\n",
       "      <td>0</td>\n",
       "      <td>0</td>\n",
       "      <td>0</td>\n",
       "      <td>0</td>\n",
       "      <td>0</td>\n",
       "      <td>0</td>\n",
       "      <td>0</td>\n",
       "      <td>0</td>\n",
       "      <td>0</td>\n",
       "      <td>1</td>\n",
       "      <td>1</td>\n",
       "      <td>0</td>\n",
       "      <td>0</td>\n",
       "      <td>0</td>\n",
       "      <td>0</td>\n",
       "      <td>0</td>\n",
       "      <td>0</td>\n",
       "    </tr>\n",
       "    <tr>\n",
       "      <th>10</th>\n",
       "      <td>0</td>\n",
       "      <td>0</td>\n",
       "      <td>0</td>\n",
       "      <td>0</td>\n",
       "      <td>0</td>\n",
       "      <td>0</td>\n",
       "      <td>0</td>\n",
       "      <td>1</td>\n",
       "      <td>1</td>\n",
       "      <td>1</td>\n",
       "      <td>1</td>\n",
       "      <td>1</td>\n",
       "      <td>1</td>\n",
       "      <td>1</td>\n",
       "      <td>0</td>\n",
       "      <td>0</td>\n",
       "      <td>0</td>\n",
       "      <td>0</td>\n",
       "      <td>0</td>\n",
       "      <td>0</td>\n",
       "      <td>0</td>\n",
       "      <td>0</td>\n",
       "      <td>0</td>\n",
       "      <td>0</td>\n",
       "      <td>0</td>\n",
       "      <td>0</td>\n",
       "      <td>0</td>\n",
       "      <td>1</td>\n",
       "      <td>1</td>\n",
       "      <td>1</td>\n",
       "      <td>1</td>\n",
       "      <td>1</td>\n",
       "      <td>1</td>\n",
       "      <td>1</td>\n",
       "      <td>0</td>\n",
       "      <td>0</td>\n",
       "      <td>0</td>\n",
       "      <td>0</td>\n",
       "      <td>0</td>\n",
       "      <td>0</td>\n",
       "      <td>...</td>\n",
       "      <td>0</td>\n",
       "      <td>0</td>\n",
       "      <td>0</td>\n",
       "      <td>0</td>\n",
       "      <td>0</td>\n",
       "      <td>1</td>\n",
       "      <td>1</td>\n",
       "      <td>0</td>\n",
       "      <td>0</td>\n",
       "      <td>0</td>\n",
       "      <td>0</td>\n",
       "      <td>0</td>\n",
       "      <td>0</td>\n",
       "      <td>1</td>\n",
       "      <td>1</td>\n",
       "      <td>0</td>\n",
       "      <td>0</td>\n",
       "      <td>0</td>\n",
       "      <td>0</td>\n",
       "      <td>0</td>\n",
       "      <td>0</td>\n",
       "      <td>0</td>\n",
       "      <td>0</td>\n",
       "      <td>0</td>\n",
       "      <td>0</td>\n",
       "      <td>0</td>\n",
       "      <td>0</td>\n",
       "      <td>0</td>\n",
       "      <td>0</td>\n",
       "      <td>1</td>\n",
       "      <td>1</td>\n",
       "      <td>1</td>\n",
       "      <td>1</td>\n",
       "      <td>1</td>\n",
       "      <td>0</td>\n",
       "      <td>0</td>\n",
       "      <td>0</td>\n",
       "      <td>0</td>\n",
       "      <td>0</td>\n",
       "      <td>0</td>\n",
       "    </tr>\n",
       "  </tbody>\n",
       "</table>\n",
       "<p>10 rows × 400 columns</p>\n",
       "</div>"
      ],
      "text/plain": [
       "    0  1  2  3  4  5  6  7  8  ...  391  392  393  394  395  396  397  398  399\n",
       "0   0  0  0  0  0  0  1  1  1  ...    1    1    1    1    1    1    0    0    0\n",
       "1   0  0  0  0  0  0  0  0  1  ...    0    1    1    1    1    0    0    0    0\n",
       "2   0  0  0  0  0  0  0  1  1  ...    0    0    0    1    1    0    0    0    0\n",
       "3   0  0  0  0  0  0  1  1  1  ...    0    0    0    0    0    0    0    0    0\n",
       "4   0  0  0  0  0  0  0  0  0  ...    0    0    0    0    0    0    0    0    0\n",
       "6   0  0  0  0  0  0  0  1  1  ...    0    0    0    0    0    1    1    1    1\n",
       "7   0  0  0  0  0  0  1  1  1  ...    1    1    1    0    0    0    0    0    0\n",
       "8   0  0  0  0  0  0  1  1  1  ...    0    0    0    1    1    1    1    0    0\n",
       "9   0  0  0  0  0  1  1  1  1  ...    0    1    1    0    0    0    0    0    0\n",
       "10  0  0  0  0  0  0  0  1  1  ...    1    1    1    0    0    0    0    0    0\n",
       "\n",
       "[10 rows x 400 columns]"
      ]
     },
     "execution_count": 7,
     "metadata": {
      "tags": []
     },
     "output_type": "execute_result"
    }
   ],
   "source": [
    "X = (X.astype(float)).astype(int).replace(255, 1)\n",
    "X.head(10)"
   ]
  },
  {
   "cell_type": "markdown",
   "metadata": {},
   "source": [
    "### Podział zbioru na uczący i testowy"
   ]
  },
  {
   "cell_type": "code",
   "execution_count": 0,
   "metadata": {
    "colab": {},
    "colab_type": "code",
    "id": "UYbT_Smk7P9V"
   },
   "outputs": [],
   "source": [
    "X_train,X_test,y_train,y_test = train_test_split(X,y,test_size= 0.2)\n"
   ]
  },
  {
   "cell_type": "markdown",
   "metadata": {},
   "source": [
    "# 3. Redukcji wymiarowości - metoda PCA"
   ]
  },
  {
   "cell_type": "code",
   "execution_count": 0,
   "metadata": {
    "colab": {},
    "colab_type": "code",
    "id": "XGU9XihN335n"
   },
   "outputs": [],
   "source": [
    "pca = PCA()\n",
    "X_train_test = pca.fit_transform(X_train)\n",
    "X_test_test = pca.transform(X_test)"
   ]
  },
  {
   "cell_type": "code",
   "execution_count": 0,
   "metadata": {
    "colab": {
     "base_uri": "https://localhost:8080/",
     "height": 286
    },
    "colab_type": "code",
    "id": "j46lKDqN6wSz",
    "outputId": "977e08bb-2e00-459b-ad46-7945ef03c0d7"
   },
   "outputs": [
    {
     "data": {
      "text/plain": [
       "[<matplotlib.lines.Line2D at 0x7f04312ef630>]"
      ]
     },
     "execution_count": 11,
     "metadata": {
      "tags": []
     },
     "output_type": "execute_result"
    },
    {
     "data": {
      "image/png": "[encoded data removed]",
      "text/plain": [
       "<Figure size 432x288 with 1 Axes>"
      ]
     },
     "metadata": {
      "tags": []
     },
     "output_type": "display_data"
    }
   ],
   "source": [
    "explained_var = pca.explained_variance_ratio_\n",
    "plt.plot(explained_var[1:15])"
   ]
  },
  {
   "cell_type": "markdown",
   "metadata": {},
   "source": [
    "### Testy modeli na 6 zmiennych"
   ]
  },
  {
   "cell_type": "code",
   "execution_count": 0,
   "metadata": {
    "colab": {},
    "colab_type": "code",
    "id": "JeTeQn-_6xDY"
   },
   "outputs": [],
   "source": [
    "pca = PCA(n_components= 6)\n",
    "X_train_pca = pca.fit_transform(X_train)\n",
    "X_test_pca = pca.transform(X_test)"
   ]
  },
  {
   "cell_type": "markdown",
   "metadata": {},
   "source": [
    "# 4. Wybór modelu statystycznego"
   ]
  },
  {
   "cell_type": "markdown",
   "metadata": {
    "colab": {},
    "colab_type": "code",
    "id": "F94YKwAQBcmg"
   },
   "source": [
    "### Grid search modeli i parametrów\n",
    "Wybrane zostały najpopularniejsze i poznane na zajęciach klasyfikatory przeznaczone do uczenia nadzorowanego.\n",
    "Przygotowany grid search miał wyłonić na podstawie skuteczności najlepszą metodą oraz jej optymalne parametry.\n",
    "Niestety ze względu na ograniczenia sprzętowe, na analizowanym zbiorze danych nie wykonał się w całości za jednym uruchomieniem. Podzielony został na kilka fragmentów aby wyłonić najskuteczniejszy model."
   ]
  },
  {
   "cell_type": "code",
   "execution_count": 0,
   "metadata": {
    "colab": {},
    "colab_type": "code",
    "id": "iYWJECOKBAvP"
   },
   "outputs": [],
   "source": [
    "names = [\"Naiv\",\"Tree\",\"MaxAbs\",\"SVM\",\"Bagg\",\"Las\"]\n",
    "\n",
    "BaggingClassifier(base_estimator=DecisionTreeClassifier(), n_estimators=100, max_features= 0.5, max_samples=0.5, bootstrap= False)\n",
    "\n",
    "models = [[(\"model\", MultinomialNB())],\n",
    "         [(\"model\", DecisionTreeClassifier())],\n",
    "         [(\"scaler\", MaxAbsScaler()), (\"model\", LogisticRegression())],\n",
    "         [(\"scaler\", MaxAbsScaler()), (\"model\", SVC())],\n",
    "         [(\"model\", BaggingClassifier())],\n",
    "         [(\"model\", RandomForestClassifier())]]\n",
    "    \n",
    "\n",
    "param_grids = [{\"model__alpha\": [0.1, 1, 10], \"model__fit_prior\": [False, True]},\n",
    "               {\"model__criterion\": [\"gini\", \"entropy\"], \"model__min_samples_split\": [2, 10, 100], \"model__max_depth\": [None, 10, 100, 200]}, \n",
    "               {\"model__penalty\": [\"l1\", \"l2\"], \"model__C\": [0.1, 1, 10]},\n",
    "               [{\"model__kernel\": [\"rbf\"], \"model__gamma\": [0.1, 1]},{\"model__kernel\": [\"poly\"], \"model__degree\": [2, 3]}],\n",
    "               {\"model__base_estimator\": [DecisionTreeClassifier()] , \"model__n_estimators\": [50, 100, 300],\n",
    "                \"model__max_features\": [0.5], \"model__max_samples\": [0.5], \"model__bootstrap\": [False]},\n",
    "               {\"model__n_estimators\": [50, 100, 300],\"model__bootstrap\": [False],\"model__max_depth\": [None, 10, 100, 200],\"model__criterion\": [\"gini\", \"entropy\"]}\n",
    "              ]\n",
    "\n",
    "uses = [False,False,False,True,True,False]\n"
   ]
  },
  {
   "cell_type": "markdown",
   "metadata": {},
   "source": [
    "### RandomForestClassifier"
   ]
  },
  {
   "cell_type": "code",
   "execution_count": 0,
   "metadata": {
    "colab": {
     "base_uri": "https://localhost:8080/",
     "height": 516
    },
    "colab_type": "code",
    "id": "hUC2yCLf6xyX",
    "outputId": "b6c12753-9221-40c5-e7f7-1d974d8a4e66"
   },
   "outputs": [
    {
     "name": "stdout",
     "output_type": "stream",
     "text": [
      "Trenuje model: Las\n"
     ]
    },
    {
     "name": "stderr",
     "output_type": "stream",
     "text": [
      "/usr/local/lib/python3.6/dist-packages/sklearn/model_selection/_split.py:1978: FutureWarning: The default value of cv will change from 3 to 5 in version 0.22. Specify it explicitly to silence this warning.\n",
      "  warnings.warn(CV_WARNING, FutureWarning)\n"
     ]
    },
    {
     "name": "stdout",
     "output_type": "stream",
     "text": [
      "{'model__bootstrap': False, 'model__criterion': 'gini', 'model__max_depth': None, 'model__n_estimators': 50}: mean:0.5175959387368784 , std:0.0029278709009516904\n",
      "{'model__bootstrap': False, 'model__criterion': 'gini', 'model__max_depth': None, 'model__n_estimators': 100}: mean:0.5214248838409912 , std:0.003717841885447751\n",
      "{'model__bootstrap': False, 'model__criterion': 'gini', 'model__max_depth': None, 'model__n_estimators': 300}: mean:0.5256410256410257 , std:0.0039037762390179186\n",
      "{'model__bootstrap': False, 'model__criterion': 'gini', 'model__max_depth': 10, 'model__n_estimators': 50}: mean:0.48698588883152644 , std:0.005201172409131786\n",
      "{'model__bootstrap': False, 'model__criterion': 'gini', 'model__max_depth': 10, 'model__n_estimators': 100}: mean:0.4890939597315436 , std:0.0028177688086737517\n",
      "{'model__bootstrap': False, 'model__criterion': 'gini', 'model__max_depth': 10, 'model__n_estimators': 300}: mean:0.492643262777491 , std:0.004645786056648081\n",
      "{'model__bootstrap': False, 'model__criterion': 'gini', 'model__max_depth': 100, 'model__n_estimators': 50}: mean:0.5182842884185166 , std:0.0020468899175985983\n",
      "{'model__bootstrap': False, 'model__criterion': 'gini', 'model__max_depth': 100, 'model__n_estimators': 100}: mean:0.5209731543624161 , std:0.0023283719499374907\n",
      "{'model__bootstrap': False, 'model__criterion': 'gini', 'model__max_depth': 100, 'model__n_estimators': 300}: mean:0.5247805885389778 , std:0.0029484689845436824\n",
      "{'model__bootstrap': False, 'model__criterion': 'gini', 'model__max_depth': 200, 'model__n_estimators': 50}: mean:0.5168860781276888 , std:0.002842431628190268\n",
      "{'model__bootstrap': False, 'model__criterion': 'gini', 'model__max_depth': 200, 'model__n_estimators': 100}: mean:0.521618482188952 , std:0.00267573600599225\n",
      "{'model__bootstrap': False, 'model__criterion': 'gini', 'model__max_depth': 200, 'model__n_estimators': 300}: mean:0.5238771295818275 , std:0.002923673635769906\n",
      "{'model__bootstrap': False, 'model__criterion': 'entropy', 'model__max_depth': None, 'model__n_estimators': 50}: mean:0.5159395973154363 , std:0.004291210713009021\n",
      "{'model__bootstrap': False, 'model__criterion': 'entropy', 'model__max_depth': None, 'model__n_estimators': 100}: mean:0.51690758905524 , std:0.004023831073439734\n",
      "{'model__bootstrap': False, 'model__criterion': 'entropy', 'model__max_depth': None, 'model__n_estimators': 300}: mean:0.5214463947685424 , std:0.0036808314858863974\n",
      "{'model__bootstrap': False, 'model__criterion': 'entropy', 'model__max_depth': 10, 'model__n_estimators': 50}: mean:0.4949664429530201 , std:0.0018146956371017913\n",
      "{'model__bootstrap': False, 'model__criterion': 'entropy', 'model__max_depth': 10, 'model__n_estimators': 100}: mean:0.49556874892445363 , std:0.0025046463644548037\n",
      "{'model__bootstrap': False, 'model__criterion': 'entropy', 'model__max_depth': 10, 'model__n_estimators': 300}: mean:0.49761228704181726 , std:0.0020736472971438205\n",
      "{'model__bootstrap': False, 'model__criterion': 'entropy', 'model__max_depth': 100, 'model__n_estimators': 50}: mean:0.5145844088797109 , std:0.003505706847327783\n",
      "{'model__bootstrap': False, 'model__criterion': 'entropy', 'model__max_depth': 100, 'model__n_estimators': 100}: mean:0.5176604715195319 , std:0.0033497705349166892\n",
      "{'model__bootstrap': False, 'model__criterion': 'entropy', 'model__max_depth': 100, 'model__n_estimators': 300}: mean:0.5205859576664946 , std:0.0032346467374151193\n",
      "{'model__bootstrap': False, 'model__criterion': 'entropy', 'model__max_depth': 200, 'model__n_estimators': 50}: mean:0.5140896575460334 , std:0.002892850518423133\n",
      "{'model__bootstrap': False, 'model__criterion': 'entropy', 'model__max_depth': 200, 'model__n_estimators': 100}: mean:0.5196824987093444 , std:0.004215145523265528\n",
      "{'model__bootstrap': False, 'model__criterion': 'entropy', 'model__max_depth': 200, 'model__n_estimators': 300}: mean:0.5213388401307865 , std:0.001948880564732897\n"
     ]
    }
   ],
   "source": [
    "best_models = []\n",
    "names_print = []\n",
    "for act, name ,pipe, params in zip(uses,names, models, param_grids):\n",
    "    if act == True:        \n",
    "        print(f\"Trenuje model: {name}\")\n",
    "        pipeline = Pipeline(pipe)\n",
    "        gs = GridSearchCV(estimator=pipeline, param_grid=params)\n",
    "        gs.fit(X_train_pca, y_train)\n",
    "        for mean, std, param in zip(gs.cv_results_[\"mean_test_score\"], gs.cv_results_[\"std_test_score\"], gs.cv_results_[\"params\"]):\n",
    "            print(f\"{param}: mean:{mean} , std:{std}\")\n",
    "        best_models.append(gs.best_estimator_)\n",
    "        names_print.append(name)"
   ]
  },
  {
   "cell_type": "code",
   "execution_count": 0,
   "metadata": {
    "colab": {
     "base_uri": "https://localhost:8080/",
     "height": 283
    },
    "colab_type": "code",
    "id": "eV7dax-PD3Wu",
    "outputId": "e1ca4908-836d-489f-c365-6c2b215ac610"
   },
   "outputs": [
    {
     "name": "stdout",
     "output_type": "stream",
     "text": [
      "Pipeline(memory=None,\n",
      "         steps=[('model',\n",
      "                 RandomForestClassifier(bootstrap=False, class_weight=None,\n",
      "                                        criterion='gini', max_depth=None,\n",
      "                                        max_features='auto',\n",
      "                                        max_leaf_nodes=None,\n",
      "                                        min_impurity_decrease=0.0,\n",
      "                                        min_impurity_split=None,\n",
      "                                        min_samples_leaf=1, min_samples_split=2,\n",
      "                                        min_weight_fraction_leaf=0.0,\n",
      "                                        n_estimators=300, n_jobs=None,\n",
      "                                        oob_score=False, random_state=None,\n",
      "                                        verbose=0, warm_start=False))],\n",
      "         verbose=False)\n",
      " Las: 0.5386733201410996\n"
     ]
    }
   ],
   "source": [
    "for act ,name, best_model in zip(uses,names_print,best_models):\n",
    "    print(best_model)    \n",
    "    print(f\" {name}: {accuracy_score(best_model.predict(X_test_pca), y_test)}\")"
   ]
  },
  {
   "cell_type": "markdown",
   "metadata": {},
   "source": [
    "### BaggingClassifier z estymatorem drzewa decyzyjnego"
   ]
  },
  {
   "cell_type": "code",
   "execution_count": 0,
   "metadata": {
    "colab": {},
    "colab_type": "code",
    "id": "h0UQzgGWqxf1"
   },
   "outputs": [],
   "source": [
    "#bagging na RandomTreeClassifier\n",
    "names = [\"Bagging\"]\n",
    "models = [(\"model\", BaggingClassifier())]\n",
    "param_grids = [{\"model__base_estimator\": [DecisionTreeClassifier()] ,\"model__n_estimators\": [50, 100, 300], \n",
    "                \"model__max_features\": [0.5], \"model__max_samples\": [0.5], \"model__bootstrap\": [False]}]\n",
    " "
   ]
  },
  {
   "cell_type": "code",
   "execution_count": 0,
   "metadata": {
    "colab": {
     "base_uri": "https://localhost:8080/",
     "height": 410
    },
    "colab_type": "code",
    "id": "Zd3AR84xwf83",
    "outputId": "9506476a-3671-433c-d8aa-76cb8035a36f"
   },
   "outputs": [
    {
     "name": "stdout",
     "output_type": "stream",
     "text": [
      "Trenuje model: Bagg\n"
     ]
    },
    {
     "name": "stderr",
     "output_type": "stream",
     "text": [
      "/usr/local/lib/python3.6/dist-packages/sklearn/model_selection/_split.py:1978: FutureWarning: The default value of cv will change from 3 to 5 in version 0.22. Specify it explicitly to silence this warning.\n",
      "  warnings.warn(CV_WARNING, FutureWarning)\n"
     ]
    },
    {
     "name": "stdout",
     "output_type": "stream",
     "text": [
      "{'model__base_estimator': DecisionTreeClassifier(class_weight=None, criterion='gini', max_depth=None,\n",
      "                       max_features=None, max_leaf_nodes=None,\n",
      "                       min_impurity_decrease=0.0, min_impurity_split=None,\n",
      "                       min_samples_leaf=1, min_samples_split=2,\n",
      "                       min_weight_fraction_leaf=0.0, presort=False,\n",
      "                       random_state=None, splitter='best'), 'model__bootstrap': False, 'model__max_features': 0.5, 'model__max_samples': 0.5, 'model__n_estimators': 50}: mean:0.3857124419204956 , std:0.005287061576403146\n",
      "{'model__base_estimator': DecisionTreeClassifier(class_weight=None, criterion='gini', max_depth=None,\n",
      "                       max_features=None, max_leaf_nodes=None,\n",
      "                       min_impurity_decrease=0.0, min_impurity_split=None,\n",
      "                       min_samples_leaf=1, min_samples_split=2,\n",
      "                       min_weight_fraction_leaf=0.0, presort=False,\n",
      "                       random_state=None, splitter='best'), 'model__bootstrap': False, 'model__max_features': 0.5, 'model__max_samples': 0.5, 'model__n_estimators': 100}: mean:0.40978316985028396 , std:0.0046255953759822\n",
      "{'model__base_estimator': DecisionTreeClassifier(class_weight=None, criterion='gini', max_depth=None,\n",
      "                       max_features=None, max_leaf_nodes=None,\n",
      "                       min_impurity_decrease=0.0, min_impurity_split=None,\n",
      "                       min_samples_leaf=1, min_samples_split=2,\n",
      "                       min_weight_fraction_leaf=0.0, presort=False,\n",
      "                       random_state=None, splitter='best'), 'model__bootstrap': False, 'model__max_features': 0.5, 'model__max_samples': 0.5, 'model__n_estimators': 300}: mean:0.4294656685596283 , std:0.0033565966138981544\n"
     ]
    }
   ],
   "source": [
    "best_models = []\n",
    "names_print = []\n",
    "for act, name ,pipe, params in zip(uses,names, models, param_grids):\n",
    "    if act == True:        \n",
    "        print(f\"Trenuje model: {name}\")\n",
    "        pipeline = Pipeline(pipe)\n",
    "        gs = GridSearchCV(estimator=pipeline, param_grid=params)\n",
    "        gs.fit(X_train_pca, y_train)\n",
    "        for mean, std, param in zip(gs.cv_results_[\"mean_test_score\"], gs.cv_results_[\"std_test_score\"], gs.cv_results_[\"params\"]):\n",
    "            print(f\"{param}: mean:{mean} , std:{std}\")\n",
    "        best_models.append(gs.best_estimator_)\n",
    "        names_print.append(name)"
   ]
  },
  {
   "cell_type": "markdown",
   "metadata": {
    "colab": {},
    "colab_type": "code",
    "id": "WKgo990TycJX"
   },
   "source": [
    "### Support Vector Machine"
   ]
  },
  {
   "cell_type": "code",
   "execution_count": 0,
   "metadata": {
    "colab": {
     "base_uri": "https://localhost:8080/",
     "height": 374
    },
    "colab_type": "code",
    "id": "chjCXOwEyVkT",
    "outputId": "a7cebdf8-b67c-4306-ea87-64f51702aaa4"
   },
   "outputs": [
    {
     "name": "stdout",
     "output_type": "stream",
     "text": [
      "Trenuje model: SVM\n"
     ]
    },
    {
     "name": "stderr",
     "output_type": "stream",
     "text": [
      "/usr/local/lib/python3.6/dist-packages/sklearn/model_selection/_split.py:1978: FutureWarning: The default value of cv will change from 3 to 5 in version 0.22. Specify it explicitly to silence this warning.\n",
      "  warnings.warn(CV_WARNING, FutureWarning)\n",
      "/usr/local/lib/python3.6/dist-packages/sklearn/svm/base.py:193: FutureWarning: The default value of gamma will change from 'auto' to 'scale' in version 0.22 to account better for unscaled features. Set gamma explicitly to 'auto' or 'scale' to avoid this warning.\n",
      "  \"avoid this warning.\", FutureWarning)\n",
      "/usr/local/lib/python3.6/dist-packages/sklearn/svm/base.py:193: FutureWarning: The default value of gamma will change from 'auto' to 'scale' in version 0.22 to account better for unscaled features. Set gamma explicitly to 'auto' or 'scale' to avoid this warning.\n",
      "  \"avoid this warning.\", FutureWarning)\n",
      "/usr/local/lib/python3.6/dist-packages/sklearn/svm/base.py:193: FutureWarning: The default value of gamma will change from 'auto' to 'scale' in version 0.22 to account better for unscaled features. Set gamma explicitly to 'auto' or 'scale' to avoid this warning.\n",
      "  \"avoid this warning.\", FutureWarning)\n",
      "/usr/local/lib/python3.6/dist-packages/sklearn/svm/base.py:193: FutureWarning: The default value of gamma will change from 'auto' to 'scale' in version 0.22 to account better for unscaled features. Set gamma explicitly to 'auto' or 'scale' to avoid this warning.\n",
      "  \"avoid this warning.\", FutureWarning)\n",
      "/usr/local/lib/python3.6/dist-packages/sklearn/svm/base.py:193: FutureWarning: The default value of gamma will change from 'auto' to 'scale' in version 0.22 to account better for unscaled features. Set gamma explicitly to 'auto' or 'scale' to avoid this warning.\n",
      "  \"avoid this warning.\", FutureWarning)\n",
      "/usr/local/lib/python3.6/dist-packages/sklearn/svm/base.py:193: FutureWarning: The default value of gamma will change from 'auto' to 'scale' in version 0.22 to account better for unscaled features. Set gamma explicitly to 'auto' or 'scale' to avoid this warning.\n",
      "  \"avoid this warning.\", FutureWarning)\n"
     ]
    },
    {
     "name": "stdout",
     "output_type": "stream",
     "text": [
      "{'model__gamma': 0.1, 'model__kernel': 'rbf'}: mean:0.4732404061263122 , std:0.001886558719032826\n",
      "{'model__gamma': 1, 'model__kernel': 'rbf'}: mean:0.5270177250043022 , std:0.002648629249195532\n",
      "{'model__degree': 2, 'model__kernel': 'poly'}: mean:0.2819437274135261 , std:0.002549633748711912\n",
      "{'model__degree': 3, 'model__kernel': 'poly'}: mean:0.06732920323524351 , std:0.0021390114883918857\n"
     ]
    }
   ],
   "source": [
    "best_models = []\n",
    "names_print = []\n",
    "for act, name ,pipe, params in zip(uses,names, models, param_grids):\n",
    "    if act == True:        \n",
    "        print(f\"Trenuje model: {name}\")\n",
    "        pipeline = Pipeline(pipe)\n",
    "        gs = GridSearchCV(estimator=pipeline, param_grid=params)\n",
    "        gs.fit(X_train_pca, y_train)\n",
    "        for mean, std, param in zip(gs.cv_results_[\"mean_test_score\"], gs.cv_results_[\"std_test_score\"], gs.cv_results_[\"params\"]):\n",
    "            print(f\"{param}: mean:{mean} , std:{std}\")\n",
    "        best_models.append(gs.best_estimator_)\n",
    "        names_print.append(name)"
   ]
  },
  {
   "cell_type": "markdown",
   "metadata": {},
   "source": [
    "### Drzewo decyzyjne"
   ]
  },
  {
   "cell_type": "code",
   "execution_count": 0,
   "metadata": {
    "colab": {},
    "colab_type": "code",
    "id": "u3A1mTUeqxxI"
   },
   "outputs": [],
   "source": [
    "names = [\"Tree\",\"MaxAbs\",\"SVM\",\"Bagg\",\"Las\"]\n",
    "\n",
    "models = [[(\"model\", DecisionTreeClassifier())],\n",
    "         [(\"scaler\", MaxAbsScaler()), (\"model\", LogisticRegression())],\n",
    "         [(\"scaler\", MaxAbsScaler()), (\"model\", SVC())],\n",
    "         [(\"model\", BaggingClassifier())],\n",
    "         [(\"model\", RandomForestClassifier())]]\n",
    "    \n",
    "param_grids = [{\"model__criterion\": [\"gini\", \"entropy\"], \"model__min_samples_split\": [2, 10, 50], \"model__max_depth\": [None, 100, 200]}, \n",
    "               {\"model__penalty\": [\"l1\", \"l2\"], \"model__C\": [0.1, 1, 10]},\n",
    "               [{\"model__kernel\": [\"rbf\"], \"model__gamma\": [0.1, 1, 1.5, 2]}],\n",
    "               {\"model__base_estimator\": [DecisionTreeClassifier()] , \"model__n_estimators\": [200, 300],\n",
    "                \"model__max_features\": [0.5], \"model__max_samples\": [0.5], \"model__bootstrap\": [False]},\n",
    "               {\"model__n_estimators\": [200,300],\"model__bootstrap\": [False],\"model__max_depth\": [None, 200],\"model__criterion\": [\"gini\", \"entropy\"]}\n",
    "              ]\n",
    "\n",
    "uses = [True,True,True,True,True]"
   ]
  },
  {
   "cell_type": "code",
   "execution_count": 0,
   "metadata": {
    "colab": {
     "base_uri": "https://localhost:8080/",
     "height": 1000
    },
    "colab_type": "code",
    "id": "9_HcFIs3zdTl",
    "outputId": "bf10011a-1871-4f5c-9b0a-b1c65b2a41ca"
   },
   "outputs": [
    {
     "name": "stdout",
     "output_type": "stream",
     "text": [
      "Trenuje model: Tree\n"
     ]
    },
    {
     "name": "stderr",
     "output_type": "stream",
     "text": [
      "/usr/local/lib/python3.6/dist-packages/sklearn/model_selection/_split.py:1978: FutureWarning: The default value of cv will change from 3 to 5 in version 0.22. Specify it explicitly to silence this warning.\n",
      "  warnings.warn(CV_WARNING, FutureWarning)\n"
     ]
    },
    {
     "name": "stdout",
     "output_type": "stream",
     "text": [
      "{'model__criterion': 'gini', 'model__max_depth': None, 'model__min_samples_split': 2}: mean:0.39679056960936154 , std:0.0017300892550180247\n",
      "{'model__criterion': 'gini', 'model__max_depth': None, 'model__min_samples_split': 10}: mean:0.4055455171226983 , std:0.002449031215908738\n",
      "{'model__criterion': 'gini', 'model__max_depth': None, 'model__min_samples_split': 50}: mean:0.40926690758905526 , std:0.0036089836217196476\n",
      "{'model__criterion': 'gini', 'model__max_depth': 100, 'model__min_samples_split': 2}: mean:0.3990707279297883 , std:0.0013951825003824113\n",
      "{'model__criterion': 'gini', 'model__max_depth': 100, 'model__min_samples_split': 10}: mean:0.40509378764412324 , std:0.0027576433304084534\n",
      "{'model__criterion': 'gini', 'model__max_depth': 100, 'model__min_samples_split': 50}: mean:0.40935295129926 , std:0.003661325504866839\n",
      "{'model__criterion': 'gini', 'model__max_depth': 200, 'model__min_samples_split': 2}: mean:0.39790913784202375 , std:0.0019453034418434507\n",
      "{'model__criterion': 'gini', 'model__max_depth': 200, 'model__min_samples_split': 10}: mean:0.4057606263982103 , std:0.0022424053025998404\n",
      "{'model__criterion': 'gini', 'model__max_depth': 200, 'model__min_samples_split': 50}: mean:0.4093099294441576 , std:0.0036623939517503677\n",
      "{'model__criterion': 'entropy', 'model__max_depth': None, 'model__min_samples_split': 2}: mean:0.4023403889175701 , std:0.003395663878163132\n",
      "{'model__criterion': 'entropy', 'model__max_depth': None, 'model__min_samples_split': 10}: mean:0.4098261917053863 , std:0.001806403226014611\n",
      "{'model__criterion': 'entropy', 'model__max_depth': None, 'model__min_samples_split': 50}: mean:0.4095035277921184 , std:0.0017848959658026981\n",
      "{'model__criterion': 'entropy', 'model__max_depth': 100, 'model__min_samples_split': 2}: mean:0.40436241610738255 , std:0.0023490798585618835\n",
      "{'model__criterion': 'entropy', 'model__max_depth': 100, 'model__min_samples_split': 10}: mean:0.4095250387196696 , std:0.0016605599506742269\n",
      "{'model__criterion': 'entropy', 'model__max_depth': 100, 'model__min_samples_split': 50}: mean:0.4096325933574256 , std:0.001677055848782094\n",
      "{'model__criterion': 'entropy', 'model__max_depth': 200, 'model__min_samples_split': 2}: mean:0.4020822577869558 , std:0.003188057383935255\n",
      "{'model__criterion': 'entropy', 'model__max_depth': 200, 'model__min_samples_split': 10}: mean:0.4104930304594734 , std:0.0013625997157380443\n",
      "{'model__criterion': 'entropy', 'model__max_depth': 200, 'model__min_samples_split': 50}: mean:0.4096325933574256 , std:0.0016307296830878695\n",
      "Trenuje model: MaxAbs\n"
     ]
    },
    {
     "name": "stderr",
     "output_type": "stream",
     "text": [
      "/usr/local/lib/python3.6/dist-packages/sklearn/model_selection/_split.py:1978: FutureWarning: The default value of cv will change from 3 to 5 in version 0.22. Specify it explicitly to silence this warning.\n",
      "  warnings.warn(CV_WARNING, FutureWarning)\n",
      "/usr/local/lib/python3.6/dist-packages/sklearn/linear_model/logistic.py:432: FutureWarning: Default solver will be changed to 'lbfgs' in 0.22. Specify a solver to silence this warning.\n",
      "  FutureWarning)\n",
      "/usr/local/lib/python3.6/dist-packages/sklearn/linear_model/logistic.py:469: FutureWarning: Default multi_class will be changed to 'auto' in 0.22. Specify the multi_class option to silence this warning.\n",
      "  \"this warning.\", FutureWarning)\n",
      "/usr/local/lib/python3.6/dist-packages/sklearn/linear_model/logistic.py:432: FutureWarning: Default solver will be changed to 'lbfgs' in 0.22. Specify a solver to silence this warning.\n",
      "  FutureWarning)\n",
      "/usr/local/lib/python3.6/dist-packages/sklearn/linear_model/logistic.py:469: FutureWarning: Default multi_class will be changed to 'auto' in 0.22. Specify the multi_class option to silence this warning.\n",
      "  \"this warning.\", FutureWarning)\n",
      "/usr/local/lib/python3.6/dist-packages/sklearn/linear_model/logistic.py:432: FutureWarning: Default solver will be changed to 'lbfgs' in 0.22. Specify a solver to silence this warning.\n",
      "  FutureWarning)\n",
      "/usr/local/lib/python3.6/dist-packages/sklearn/linear_model/logistic.py:469: FutureWarning: Default multi_class will be changed to 'auto' in 0.22. Specify the multi_class option to silence this warning.\n",
      "  \"this warning.\", FutureWarning)\n",
      "/usr/local/lib/python3.6/dist-packages/sklearn/linear_model/logistic.py:432: FutureWarning: Default solver will be changed to 'lbfgs' in 0.22. Specify a solver to silence this warning.\n",
      "  FutureWarning)\n",
      "/usr/local/lib/python3.6/dist-packages/sklearn/linear_model/logistic.py:469: FutureWarning: Default multi_class will be changed to 'auto' in 0.22. Specify the multi_class option to silence this warning.\n",
      "  \"this warning.\", FutureWarning)\n",
      "/usr/local/lib/python3.6/dist-packages/sklearn/linear_model/logistic.py:432: FutureWarning: Default solver will be changed to 'lbfgs' in 0.22. Specify a solver to silence this warning.\n",
      "  FutureWarning)\n",
      "/usr/local/lib/python3.6/dist-packages/sklearn/linear_model/logistic.py:469: FutureWarning: Default multi_class will be changed to 'auto' in 0.22. Specify the multi_class option to silence this warning.\n",
      "  \"this warning.\", FutureWarning)\n",
      "/usr/local/lib/python3.6/dist-packages/sklearn/linear_model/logistic.py:432: FutureWarning: Default solver will be changed to 'lbfgs' in 0.22. Specify a solver to silence this warning.\n",
      "  FutureWarning)\n",
      "/usr/local/lib/python3.6/dist-packages/sklearn/linear_model/logistic.py:469: FutureWarning: Default multi_class will be changed to 'auto' in 0.22. Specify the multi_class option to silence this warning.\n",
      "  \"this warning.\", FutureWarning)\n",
      "/usr/local/lib/python3.6/dist-packages/sklearn/linear_model/logistic.py:432: FutureWarning: Default solver will be changed to 'lbfgs' in 0.22. Specify a solver to silence this warning.\n",
      "  FutureWarning)\n",
      "/usr/local/lib/python3.6/dist-packages/sklearn/linear_model/logistic.py:469: FutureWarning: Default multi_class will be changed to 'auto' in 0.22. Specify the multi_class option to silence this warning.\n",
      "  \"this warning.\", FutureWarning)\n",
      "/usr/local/lib/python3.6/dist-packages/sklearn/linear_model/logistic.py:432: FutureWarning: Default solver will be changed to 'lbfgs' in 0.22. Specify a solver to silence this warning.\n",
      "  FutureWarning)\n",
      "/usr/local/lib/python3.6/dist-packages/sklearn/linear_model/logistic.py:469: FutureWarning: Default multi_class will be changed to 'auto' in 0.22. Specify the multi_class option to silence this warning.\n",
      "  \"this warning.\", FutureWarning)\n",
      "/usr/local/lib/python3.6/dist-packages/sklearn/linear_model/logistic.py:432: FutureWarning: Default solver will be changed to 'lbfgs' in 0.22. Specify a solver to silence this warning.\n",
      "  FutureWarning)\n",
      "/usr/local/lib/python3.6/dist-packages/sklearn/linear_model/logistic.py:469: FutureWarning: Default multi_class will be changed to 'auto' in 0.22. Specify the multi_class option to silence this warning.\n",
      "  \"this warning.\", FutureWarning)\n",
      "/usr/local/lib/python3.6/dist-packages/sklearn/linear_model/logistic.py:432: FutureWarning: Default solver will be changed to 'lbfgs' in 0.22. Specify a solver to silence this warning.\n",
      "  FutureWarning)\n",
      "/usr/local/lib/python3.6/dist-packages/sklearn/linear_model/logistic.py:469: FutureWarning: Default multi_class will be changed to 'auto' in 0.22. Specify the multi_class option to silence this warning.\n",
      "  \"this warning.\", FutureWarning)\n",
      "/usr/local/lib/python3.6/dist-packages/sklearn/linear_model/logistic.py:432: FutureWarning: Default solver will be changed to 'lbfgs' in 0.22. Specify a solver to silence this warning.\n",
      "  FutureWarning)\n",
      "/usr/local/lib/python3.6/dist-packages/sklearn/linear_model/logistic.py:469: FutureWarning: Default multi_class will be changed to 'auto' in 0.22. Specify the multi_class option to silence this warning.\n",
      "  \"this warning.\", FutureWarning)\n",
      "/usr/local/lib/python3.6/dist-packages/sklearn/linear_model/logistic.py:432: FutureWarning: Default solver will be changed to 'lbfgs' in 0.22. Specify a solver to silence this warning.\n",
      "  FutureWarning)\n",
      "/usr/local/lib/python3.6/dist-packages/sklearn/linear_model/logistic.py:469: FutureWarning: Default multi_class will be changed to 'auto' in 0.22. Specify the multi_class option to silence this warning.\n",
      "  \"this warning.\", FutureWarning)\n",
      "/usr/local/lib/python3.6/dist-packages/sklearn/linear_model/logistic.py:432: FutureWarning: Default solver will be changed to 'lbfgs' in 0.22. Specify a solver to silence this warning.\n",
      "  FutureWarning)\n",
      "/usr/local/lib/python3.6/dist-packages/sklearn/linear_model/logistic.py:469: FutureWarning: Default multi_class will be changed to 'auto' in 0.22. Specify the multi_class option to silence this warning.\n",
      "  \"this warning.\", FutureWarning)\n",
      "/usr/local/lib/python3.6/dist-packages/sklearn/linear_model/logistic.py:432: FutureWarning: Default solver will be changed to 'lbfgs' in 0.22. Specify a solver to silence this warning.\n",
      "  FutureWarning)\n",
      "/usr/local/lib/python3.6/dist-packages/sklearn/linear_model/logistic.py:469: FutureWarning: Default multi_class will be changed to 'auto' in 0.22. Specify the multi_class option to silence this warning.\n",
      "  \"this warning.\", FutureWarning)\n",
      "/usr/local/lib/python3.6/dist-packages/sklearn/linear_model/logistic.py:432: FutureWarning: Default solver will be changed to 'lbfgs' in 0.22. Specify a solver to silence this warning.\n",
      "  FutureWarning)\n",
      "/usr/local/lib/python3.6/dist-packages/sklearn/linear_model/logistic.py:469: FutureWarning: Default multi_class will be changed to 'auto' in 0.22. Specify the multi_class option to silence this warning.\n",
      "  \"this warning.\", FutureWarning)\n",
      "/usr/local/lib/python3.6/dist-packages/sklearn/linear_model/logistic.py:432: FutureWarning: Default solver will be changed to 'lbfgs' in 0.22. Specify a solver to silence this warning.\n",
      "  FutureWarning)\n",
      "/usr/local/lib/python3.6/dist-packages/sklearn/linear_model/logistic.py:469: FutureWarning: Default multi_class will be changed to 'auto' in 0.22. Specify the multi_class option to silence this warning.\n",
      "  \"this warning.\", FutureWarning)\n",
      "/usr/local/lib/python3.6/dist-packages/sklearn/linear_model/logistic.py:432: FutureWarning: Default solver will be changed to 'lbfgs' in 0.22. Specify a solver to silence this warning.\n",
      "  FutureWarning)\n",
      "/usr/local/lib/python3.6/dist-packages/sklearn/linear_model/logistic.py:469: FutureWarning: Default multi_class will be changed to 'auto' in 0.22. Specify the multi_class option to silence this warning.\n",
      "  \"this warning.\", FutureWarning)\n",
      "/usr/local/lib/python3.6/dist-packages/sklearn/linear_model/logistic.py:432: FutureWarning: Default solver will be changed to 'lbfgs' in 0.22. Specify a solver to silence this warning.\n",
      "  FutureWarning)\n",
      "/usr/local/lib/python3.6/dist-packages/sklearn/linear_model/logistic.py:469: FutureWarning: Default multi_class will be changed to 'auto' in 0.22. Specify the multi_class option to silence this warning.\n",
      "  \"this warning.\", FutureWarning)\n",
      "/usr/local/lib/python3.6/dist-packages/sklearn/linear_model/logistic.py:432: FutureWarning: Default solver will be changed to 'lbfgs' in 0.22. Specify a solver to silence this warning.\n",
      "  FutureWarning)\n",
      "/usr/local/lib/python3.6/dist-packages/sklearn/linear_model/logistic.py:469: FutureWarning: Default multi_class will be changed to 'auto' in 0.22. Specify the multi_class option to silence this warning.\n",
      "  \"this warning.\", FutureWarning)\n"
     ]
    },
    {
     "name": "stdout",
     "output_type": "stream",
     "text": [
      "{'model__C': 0.1, 'model__penalty': 'l1'}: mean:0.4003183617277577 , std:0.005874341651162955\n",
      "{'model__C': 0.1, 'model__penalty': 'l2'}: mean:0.3777533987265531 , std:0.003786054660870184\n",
      "{'model__C': 1, 'model__penalty': 'l1'}: mean:0.41156857683703324 , std:0.0048908262553961565\n",
      "{'model__C': 1, 'model__penalty': 'l2'}: mean:0.4087936671829289 , std:0.004661363701312782\n",
      "{'model__C': 10, 'model__penalty': 'l1'}: mean:0.41264412321459304 , std:0.004693867434438571\n",
      "{'model__C': 10, 'model__penalty': 'l2'}: mean:0.41208483909826193 , std:0.0046429043742918725\n",
      "Trenuje model: SVM\n"
     ]
    },
    {
     "name": "stderr",
     "output_type": "stream",
     "text": [
      "/usr/local/lib/python3.6/dist-packages/sklearn/model_selection/_split.py:1978: FutureWarning: The default value of cv will change from 3 to 5 in version 0.22. Specify it explicitly to silence this warning.\n",
      "  warnings.warn(CV_WARNING, FutureWarning)\n"
     ]
    },
    {
     "name": "stdout",
     "output_type": "stream",
     "text": [
      "{'model__gamma': 0.1, 'model__kernel': 'rbf'}: mean:0.4732404061263122 , std:0.001886558719032826\n",
      "{'model__gamma': 1, 'model__kernel': 'rbf'}: mean:0.5270177250043022 , std:0.002648629249195532\n",
      "{'model__gamma': 1.5, 'model__kernel': 'rbf'}: mean:0.5348692135604888 , std:0.002152537033121444\n",
      "{'model__gamma': 2, 'model__kernel': 'rbf'}: mean:0.5383970056788848 , std:0.002516682508393348\n",
      "Trenuje model: Bagg\n"
     ]
    },
    {
     "name": "stderr",
     "output_type": "stream",
     "text": [
      "/usr/local/lib/python3.6/dist-packages/sklearn/model_selection/_split.py:1978: FutureWarning: The default value of cv will change from 3 to 5 in version 0.22. Specify it explicitly to silence this warning.\n",
      "  warnings.warn(CV_WARNING, FutureWarning)\n"
     ]
    },
    {
     "name": "stdout",
     "output_type": "stream",
     "text": [
      "{'model__base_estimator': DecisionTreeClassifier(class_weight=None, criterion='gini', max_depth=None,\n",
      "                       max_features=None, max_leaf_nodes=None,\n",
      "                       min_impurity_decrease=0.0, min_impurity_split=None,\n",
      "                       min_samples_leaf=1, min_samples_split=2,\n",
      "                       min_weight_fraction_leaf=0.0, presort=False,\n",
      "                       random_state=None, splitter='best'), 'model__bootstrap': False, 'model__max_features': 0.5, 'model__max_samples': 0.5, 'model__n_estimators': 200}: mean:0.424604198933058 , std:0.0030695158696897465\n",
      "{'model__base_estimator': DecisionTreeClassifier(class_weight=None, criterion='gini', max_depth=None,\n",
      "                       max_features=None, max_leaf_nodes=None,\n",
      "                       min_impurity_decrease=0.0, min_impurity_split=None,\n",
      "                       min_samples_leaf=1, min_samples_split=2,\n",
      "                       min_weight_fraction_leaf=0.0, presort=False,\n",
      "                       random_state=None, splitter='best'), 'model__bootstrap': False, 'model__max_features': 0.5, 'model__max_samples': 0.5, 'model__n_estimators': 300}: mean:0.42802443641369814 , std:0.005185246138730148\n",
      "Trenuje model: Las\n"
     ]
    },
    {
     "name": "stderr",
     "output_type": "stream",
     "text": [
      "/usr/local/lib/python3.6/dist-packages/sklearn/model_selection/_split.py:1978: FutureWarning: The default value of cv will change from 3 to 5 in version 0.22. Specify it explicitly to silence this warning.\n",
      "  warnings.warn(CV_WARNING, FutureWarning)\n"
     ]
    }
   ],
   "source": [
    "best_models = []\n",
    "names_print = []\n",
    "for act, name ,pipe, params in zip(uses,names, models, param_grids):\n",
    "    if act == True:        \n",
    "        print(f\"Trenuje model: {name}\")\n",
    "        pipeline = Pipeline(pipe)\n",
    "        gs = GridSearchCV(estimator=pipeline, param_grid=params)\n",
    "        gs.fit(X_train_pca, y_train)\n",
    "        for mean, std, param in zip(gs.cv_results_[\"mean_test_score\"], gs.cv_results_[\"std_test_score\"], gs.cv_results_[\"params\"]):\n",
    "            print(f\"{param}: mean:{mean} , std:{std}\")\n",
    "        best_models.append(gs.best_estimator_)\n",
    "        names_print.append(name)"
   ]
  },
  {
   "cell_type": "markdown",
   "metadata": {
    "colab": {},
    "colab_type": "code",
    "id": "yGXng4st6x-4"
   },
   "source": [
    "### RandomForestClassifier oraz SVM\n",
    "Najlepsze rezultaty zostały uzyskane metodą lasów losowych oraz maszyną wektorów nośnych.\n",
    "Na tej podstawie został przeprowadzony jeszcze jeden grid search, testujący wybrane metody również na różnej ilości zmiennych wybranych w algorytmie PCA"
   ]
  },
  {
   "cell_type": "code",
   "execution_count": 0,
   "metadata": {
    "colab": {
     "base_uri": "https://localhost:8080/",
     "height": 194
    },
    "colab_type": "code",
    "id": "8ZZ06KSHmJGM",
    "outputId": "e20b9a20-ff16-4f9e-908c-247efb31947a"
   },
   "outputs": [
    {
     "name": "stdout",
     "output_type": "stream",
     "text": [
      "PCA_component: 4, accuracy svm : 0.36848162903939796\n",
      "PCA_component: 4, accuracy Random Forest : 0.3455511288180611\n",
      "PCA_component: 5, accuracy svm : 0.4444444444444444\n",
      "PCA_component: 5, accuracy Random Forest : 0.44833997343957505\n",
      "PCA_component: 6, accuracy svm : 0.4816290393979637\n",
      "PCA_component: 6, accuracy Random Forest : 0.5491810535635236\n",
      "PCA_component: 7, accuracy svm : 0.4440017706949978\n",
      "PCA_component: 7, accuracy Random Forest : 0.5876051350154936\n",
      "PCA_component: 8, accuracy svm : 0.39194333776007084\n",
      "PCA_component: 8, accuracy Random Forest : 0.613368747233289\n"
     ]
    }
   ],
   "source": [
    "pca_val = [4,5,6,7,8]\n",
    "for val in pca_val:\n",
    "    pca = PCA(n_components= val)\n",
    "    X_train_pca = pca.fit_transform(X_train)\n",
    "    X_test_pca = pca.transform(X_test)\n",
    "    #SVM\n",
    "    svm_model = SVC(gamma=2, kernel = 'rbf')\n",
    "    svm_model.fit(X_train_pca, y_train)\n",
    "    y_pred = svm_model.predict(X_test_pca)\n",
    "    accuracy_svm = accuracy_score(y_test, y_pred)\n",
    "    print(f'PCA_component: {val}, accuracy svm : {str(accuracy_svm)}')\n",
    "    #Random Forest\n",
    "    rf_model = RandomForestClassifier(bootstrap=False, \n",
    "                                        criterion='gini', \n",
    "                                        max_features='auto',                                   \n",
    "                                        min_samples_leaf=1, \n",
    "                                        min_samples_split=2,\n",
    "                                        min_weight_fraction_leaf=0.0,\n",
    "                                        n_estimators=300)\n",
    "    rf_model.fit(X_train_pca,y_train)\n",
    "    y_pred = rf_model.predict(X_test_pca)\n",
    "    accuracy_rf = accuracy_score(y_test, y_pred)\n",
    "    print(f'PCA_component: {val}, accuracy Random Forest : {str(accuracy_rf)}')\n",
    "  \n",
    "  "
   ]
  },
  {
   "cell_type": "markdown",
   "metadata": {},
   "source": [
    "### Lasy losowe - optymalny klasyfikator dla analizowanego zagadnienia\n",
    "Finalny wybór padł na lasy losowe. Ze względów wydajnościowych liczba zmiennych została ograniczona do 7."
   ]
  },
  {
   "cell_type": "code",
   "execution_count": 10,
   "metadata": {
    "colab": {
     "base_uri": "https://localhost:8080/",
     "height": 34
    },
    "colab_type": "code",
    "id": "5IN6CS6j8tkW",
    "outputId": "f6920cc4-9075-4ac1-f08d-9f0a92109da9"
   },
   "outputs": [
    {
     "name": "stdout",
     "output_type": "stream",
     "text": [
      "Accuracy Random Forest : 0.5767153607791058\n"
     ]
    }
   ],
   "source": [
    "pca = PCA(n_components= 7)\n",
    "X_train_pca = pca.fit_transform(X_train)\n",
    "X_test_pca = pca.transform(X_test)\n",
    "rf_model = RandomForestClassifier(bootstrap=False, \n",
    "                                        criterion='gini', \n",
    "                                        max_features='auto',                                   \n",
    "                                        min_samples_leaf=1, \n",
    "                                        min_samples_split=2,\n",
    "                                        min_weight_fraction_leaf=0.0,\n",
    "                                        n_estimators=300)\n",
    "rf_model.fit(X_train_pca,y_train)\n",
    "y_pred = rf_model.predict(X_test_pca)\n",
    "accuracy_rf = accuracy_score(y_test, y_pred)\n",
    "print(f'Accuracy Random Forest : {str(accuracy_rf)}')"
   ]
  },
  {
   "cell_type": "markdown",
   "metadata": {
    "colab": {},
    "colab_type": "code",
    "id": "KDfXKc4w_XB0"
   },
   "source": [
    "### Badanie błednie sklasyfikowanych obrazów\n",
    "Do tego celu została wykorzystana macierz pomyłek przedstawiona na obrazie.\n",
    "Na pierwszy rzut oka możemy zauważyć znaczący wzrost błędnie predykowanych liter ze względu na ich wielkość.\n",
    "Liczność klas i wielkość liter była od samego początu mocną niewiadomoą tego projektu, jednak ze względu na dostępność danych postanowiłem przetostować tak szczegółowy model.\n",
    "\n",
    "W docelowej implementacji można zastosować standaryzacje wielkości liter i zwiększyć skuteczność predykcji. Nie powinno to jednak wpłynąć na sens całych słów odczytywanych z obrazów.\n",
    "\n"
   ]
  },
  {
   "cell_type": "code",
   "execution_count": 26,
   "metadata": {
    "colab": {
     "base_uri": "https://localhost:8080/",
     "height": 873
    },
    "colab_type": "code",
    "id": "ariq1SaK8-sI",
    "outputId": "abf72956-704f-444e-aa45-b91e83731ee3"
   },
   "outputs": [
    {
     "data": {
      "image/png": "[encoded data removed]",
      "text/plain": [
       "<Figure size 864x1440 with 1 Axes>"
      ]
     },
     "metadata": {
      "tags": []
     },
     "output_type": "display_data"
    }
   ],
   "source": [
    "unique_val = list(y_train.unique())\n",
    "unique_val.sort()\n",
    "cm = confusion_matrix(y_test, y_pred, labels= unique_val )\n",
    "\n",
    "plt.figure(figsize=(12,20))\n",
    "plt.imshow(cm)\n",
    "\n",
    "tick_marks = np.arange(len(unique_val))\n",
    "plt.xticks(tick_marks, unique_val)\n",
    "plt.yticks(tick_marks, unique_val)\n",
    "\n",
    "plt.ylabel('True')\n",
    "plt.xlabel('Predicted')\n",
    "plt.tight_layout()"
   ]
  },
  {
   "cell_type": "markdown",
   "metadata": {},
   "source": [
    "### Porównanie najczęściej błędnie klasyfikowanych liter"
   ]
  },
  {
   "cell_type": "code",
   "execution_count": 30,
   "metadata": {
    "colab": {
     "base_uri": "https://localhost:8080/",
     "height": 459
    },
    "colab_type": "code",
    "id": "hz5rjtCzAQmV",
    "outputId": "7164da63-5243-4d93-9e50-1f89048ee9bc"
   },
   "outputs": [
    {
     "name": "stdout",
     "output_type": "stream",
     "text": [
      "    ilosc pred true\n",
      "20     98    v    V\n",
      "8      93    V    v\n",
      "10     91    X    x\n",
      "12     74    Z    z\n",
      "22     74    x    X\n",
      "24     68    z    Z\n",
      "13     63    c    C\n",
      "7      58    S    s\n",
      "2      57    C    c\n",
      "23     53    y    Y\n",
      "18     48    s    S\n",
      "1      48    0    o\n",
      "0      47    0    O\n",
      "3      45    I    l\n",
      "15     44    l    I\n",
      "9      43    W    w\n",
      "6      43    P    p\n",
      "11     41    Y    y\n",
      "16     40    o    0\n",
      "17     36    o    O\n",
      "19     36    u    U\n",
      "4      36    O    0\n",
      "21     35    w    W\n",
      "5      34    O    o\n",
      "14     33    k    K\n"
     ]
    }
   ],
   "source": [
    "lista = []\n",
    "for i,val in enumerate(cm):\n",
    "    for j,val1 in enumerate(cm[i]):\n",
    "    if j != i:\n",
    "        if cm[i][j] > 30:\n",
    "            lista.append([cm[i][j],unique_val[i],unique_val[j]])   \n",
    "\n",
    "df_cm = pd.DataFrame(lista, columns=['ilosc','pred','true'])\n",
    "df_cm =  df_cm.sort_values(by='ilosc', ascending=False)\n",
    "print(df_cm)\n"
   ]
  },
  {
   "cell_type": "markdown",
   "metadata": {
    "colab": {},
    "colab_type": "code",
    "id": "I_Jk3jWwFaSV"
   },
   "source": [
    "### Miary oceny klasyfikatora dla poszczególnych klas"
   ]
  },
  {
   "cell_type": "code",
   "execution_count": 29,
   "metadata": {
    "colab": {
     "base_uri": "https://localhost:8080/",
     "height": 1000
    },
    "colab_type": "code",
    "id": "X5u-cfG2DQzt",
    "outputId": "f9667fdc-ad37-4ba2-9ef7-fd7ad230eb02"
   },
   "outputs": [
    {
     "name": "stdout",
     "output_type": "stream",
     "text": [
      "              precision    recall  f1-score   support\n",
      "\n",
      "           0       0.39      0.34      0.36       199\n",
      "           1       0.56      0.57      0.56       222\n",
      "           2       0.63      0.72      0.67       238\n",
      "           3       0.75      0.67      0.71       246\n",
      "           4       0.70      0.84      0.76       183\n",
      "           5       0.47      0.41      0.44       174\n",
      "           6       0.42      0.66      0.51       130\n",
      "           7       0.70      0.75      0.73       236\n",
      "           8       0.66      0.64      0.65       184\n",
      "           9       0.62      0.56      0.59       159\n",
      "           A       0.75      0.83      0.79       223\n",
      "           B       0.44      0.63      0.52       112\n",
      "           C       0.48      0.47      0.48       224\n",
      "           D       0.56      0.66      0.61       160\n",
      "           E       0.75      0.70      0.73       140\n",
      "           F       0.65      0.61      0.63       203\n",
      "           G       0.57      0.63      0.60       147\n",
      "           H       0.62      0.70      0.66       145\n",
      "           I       0.48      0.42      0.45       229\n",
      "           J       0.51      0.54      0.52       203\n",
      "           K       0.63      0.72      0.67       128\n",
      "           L       0.62      0.69      0.65       201\n",
      "           M       0.84      0.88      0.86        98\n",
      "           N       0.57      0.69      0.62       145\n",
      "           O       0.44      0.45      0.45       213\n",
      "           P       0.64      0.55      0.59       158\n",
      "           Q       0.59      0.59      0.59       135\n",
      "           R       0.66      0.58      0.62       101\n",
      "           S       0.45      0.38      0.41       213\n",
      "           T       0.73      0.70      0.72       244\n",
      "           U       0.48      0.51      0.50       201\n",
      "           V       0.38      0.41      0.40       215\n",
      "           W       0.42      0.43      0.43       102\n",
      "           X       0.53      0.49      0.51       242\n",
      "           Y       0.54      0.55      0.55       233\n",
      "           Z       0.55      0.53      0.54       223\n",
      "           a       0.64      0.55      0.59       135\n",
      "           b       0.80      0.73      0.76       164\n",
      "           c       0.41      0.41      0.41       200\n",
      "           d       0.68      0.71      0.70       157\n",
      "           e       0.68      0.73      0.70       148\n",
      "           f       0.61      0.60      0.61       215\n",
      "           g       0.63      0.40      0.49        93\n",
      "           h       0.76      0.63      0.69       157\n",
      "           i       0.54      0.46      0.49       245\n",
      "           j       0.62      0.64      0.63       233\n",
      "           k       0.67      0.60      0.63       186\n",
      "           l       0.48      0.36      0.41       216\n",
      "           m       0.86      0.91      0.89       114\n",
      "           n       0.68      0.51      0.58       153\n",
      "           o       0.40      0.40      0.40       180\n",
      "           p       0.60      0.67      0.63       172\n",
      "           q       0.60      0.65      0.63       167\n",
      "           r       0.65      0.55      0.59       228\n",
      "           s       0.42      0.42      0.42       179\n",
      "           t       0.59      0.65      0.62       226\n",
      "           u       0.57      0.54      0.55       178\n",
      "           v       0.40      0.38      0.39       226\n",
      "           w       0.59      0.61      0.60       122\n",
      "           x       0.51      0.56      0.54       205\n",
      "           y       0.58      0.56      0.57       210\n",
      "           z       0.46      0.46      0.46       177\n",
      "\n",
      "    accuracy                           0.58     11295\n",
      "   macro avg       0.58      0.58      0.58     11295\n",
      "weighted avg       0.58      0.58      0.57     11295\n",
      "\n"
     ]
    }
   ],
   "source": [
    "print(classification_report(y_test, y_pred, labels=unique_val))"
   ]
  },
  {
   "cell_type": "markdown",
   "metadata": {
    "colab": {},
    "colab_type": "code",
    "id": "9dh0UEMalV9q"
   },
   "source": [
    "# 5. Podsumowanie\n",
    "\n",
    "### Skuteczność modelu wydaje się dość obiecująca jednak trzeba wziąć pod uwagę jakość uczącego zbioru danych. W prawdziwych zastosowaniach jakość liter na zdjęciach czy skanach nie jest już tak idealna. Istnieje jednak sporo algorytmów filtrujących, czyszczących i wyrównujacych obrazy do postaci zbliżonej do analizowanych w projekcie. \n",
    "\n",
    "### Trzeba również zaznaczyć iż użycie miary podobieństwa do litery wzorcowej mogło ograniczyć w pewnym stopniu skuteczność uogólniania modelu oraz jego uniwersalności. Ze względu jednak na dużą ilość nieczytelnych czcionek zdecydowałem się zwiększyć skuteczność modelu dla standardowych czcionek używanych w znacznej większości przypadków.\n",
    "\n",
    "### Kolejnym krokiem rozwoju projektu będzie zastosowanie metod pakietu OpenCV oraz kolejnego modelu głębokiego uczenia do rozpoznawania boxów z textem ze zdjęć oraz przetwarzanie samych już obiektów do pojedynczych obrazów liter. Na tak przygotowanych obiektach możliwe już będzie użycie zaprezentowanego modelu do predykcji a następnie łączenie liter w całe słowa.\n",
    "\n"
   ]
  },
  {
   "cell_type": "code",
   "execution_count": 0,
   "metadata": {
    "colab": {},
    "colab_type": "code",
    "id": "lMtepRyoMRtk"
   },
   "outputs": [],
   "source": []
  },
  {
   "cell_type": "code",
   "execution_count": 0,
   "metadata": {
    "colab": {},
    "colab_type": "code",
    "id": "kbh2ESTLl_S0"
   },
   "outputs": [],
   "source": []
  }
 ],
 "metadata": {
  "colab": {
   "collapsed_sections": [],
   "name": "ocr_font.ipynb",
   "provenance": [],
   "version": "0.3.2"
  },
  "kernelspec": {
   "display_name": "Python 3",
   "language": "python",
   "name": "python3"
  },
  "language_info": {
   "codemirror_mode": {
    "name": "ipython",
    "version": 3
   },
   "file_extension": ".py",
   "mimetype": "text/x-python",
   "name": "python",
   "nbconvert_exporter": "python",
   "pygments_lexer": "ipython3",
   "version": "3.7.1"
  }
 },
 "nbformat": 4,
 "nbformat_minor": 1
}
